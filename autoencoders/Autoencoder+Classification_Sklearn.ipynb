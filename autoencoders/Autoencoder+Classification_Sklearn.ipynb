{
  "nbformat": 4,
  "nbformat_minor": 0,
  "metadata": {
    "colab": {
      "name": "Classification_Sklearn.ipynb",
      "provenance": [],
      "collapsed_sections": []
    },
    "kernelspec": {
      "name": "python3",
      "display_name": "Python 3"
    },
    "language_info": {
      "name": "python"
    }
  },
  "cells": [
    {
      "cell_type": "markdown",
      "metadata": {
        "id": "QBlc7nMCmsgI"
      },
      "source": [
        "Reference: geeksforgeeks.org/ml-classifying-data-using-an-auto-encoder/"
      ]
    },
    {
      "cell_type": "code",
      "metadata": {
        "id": "jFJAYFGDIrCt"
      },
      "source": [
        "import pandas as pd \n",
        "import numpy as np\n",
        "from sklearn.model_selection import train_test_split \n",
        "from sklearn.linear_model import LogisticRegression\n",
        "from sklearn.svm import SVC\n",
        "from sklearn.metrics import accuracy_score\n",
        "from sklearn.preprocessing import MinMaxScaler \n",
        "from sklearn.manifold import TSNE\n",
        "import matplotlib.pyplot as plt\n",
        "import seaborn as sns\n",
        "from keras.layers import Input, Dense\n",
        "from keras.models import Model, Sequential\n",
        "from keras import regularizers"
      ],
      "execution_count": null,
      "outputs": []
    },
    {
      "cell_type": "markdown",
      "metadata": {
        "id": "0v4F3ofBH2Lh"
      },
      "source": [
        "Get encoded data from trained Autoencoder"
      ]
    },
    {
      "cell_type": "code",
      "metadata": {
        "id": "HhBbKsktHyAe"
      },
      "source": [
        "encoded_X = None\n",
        "encoded_y = None"
      ],
      "execution_count": null,
      "outputs": []
    },
    {
      "cell_type": "code",
      "metadata": {
        "id": "gtsXue8cnGsf"
      },
      "source": [
        "# Splitting the encoded data for linear classification\n",
        "X_train_encoded, X_test_encoded, y_train_encoded, y_test_encoded = train_test_split(encoded_X, encoded_y, test_size = 0.2)\n",
        "  \n",
        "# Splitting the original data for non-linear classification\n",
        "X_train, X_test, y_train, y_test = train_test_split(X, y, test_size = 0.2)"
      ],
      "execution_count": null,
      "outputs": []
    },
    {
      "cell_type": "markdown",
      "metadata": {
        "id": "DwAN3KZsnKJp"
      },
      "source": [
        "Logistic Regression"
      ]
    },
    {
      "cell_type": "code",
      "metadata": {
        "id": "FknjOKueHkD4"
      },
      "source": [
        "\n",
        "# Building the logistic regression model\n",
        "lrclf = LogisticRegression()\n",
        "lrclf.fit(X_train_encoded, y_train_encoded)\n",
        "  \n",
        "# Storing the predictions of the linear model\n",
        "y_pred_lrclf = lrclf.predict(X_test_encoded)\n",
        "  \n",
        "# Evaluating the performance of the linear model\n",
        "print('Accuracy : '+str(accuracy_score(y_test_encoded, y_pred_lrclf)))"
      ],
      "execution_count": null,
      "outputs": []
    },
    {
      "cell_type": "markdown",
      "metadata": {
        "id": "QYqhtRjdnMYz"
      },
      "source": [
        "SVM"
      ]
    },
    {
      "cell_type": "code",
      "metadata": {
        "id": "k_QXBjMXHrZQ"
      },
      "source": [
        "# Building the SVM model\n",
        "svmclf = SVC()\n",
        "svmclf.fit(X_train, y_train)\n",
        "  \n",
        "# Storing the predictions of the non-linear model\n",
        "y_pred_svmclf = svmclf.predict(X_test)\n",
        "  \n",
        "# Evaluating the performance of the non-linear model\n",
        "print('Accuracy : '+str(accuracy_score(y_test, y_pred_svmclf)))"
      ],
      "execution_count": null,
      "outputs": []
    }
  ]
}