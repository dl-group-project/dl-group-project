{
  "nbformat": 4,
  "nbformat_minor": 0,
  "metadata": {
    "colab": {
      "name": "Report_Shallow_Detector.ipynb",
      "provenance": []
    },
    "kernelspec": {
      "name": "python3",
      "display_name": "Python 3"
    },
    "language_info": {
      "name": "python"
    }
  },
  "cells": [
    {
      "cell_type": "code",
      "metadata": {
        "id": "yimJfi3ZZ0tN"
      },
      "source": [
        "import pandas as pd\n",
        "import numpy as np\n",
        "import os"
      ],
      "execution_count": 1,
      "outputs": []
    },
    {
      "cell_type": "code",
      "metadata": {
        "colab": {
          "base_uri": "https://localhost:8080/"
        },
        "id": "k1vqJ_M8YmMu",
        "outputId": "1964a501-1030-4134-8a23-a9391ca1c96c"
      },
      "source": [
        "from google.colab import drive\n",
        "drive.mount('/content/gdrive')"
      ],
      "execution_count": 2,
      "outputs": [
        {
          "output_type": "stream",
          "text": [
            "Mounted at /content/gdrive\n"
          ],
          "name": "stdout"
        }
      ]
    },
    {
      "cell_type": "code",
      "metadata": {
        "id": "M0z6I1NJY5B6"
      },
      "source": [
        "drive_path = '/content/gdrive/MyDrive/DL_Group_Project/Dataset/Preprocessed_Data/shallow_detectors/'"
      ],
      "execution_count": 3,
      "outputs": []
    },
    {
      "cell_type": "code",
      "metadata": {
        "colab": {
          "base_uri": "https://localhost:8080/"
        },
        "id": "R9paoTCkZX5P",
        "outputId": "7ee2f555-247f-4b38-f0b1-ef64bd25b850"
      },
      "source": [
        "%cd /content/gdrive/MyDrive/DL_Group_Project/Dataset/Preprocessed_Data/"
      ],
      "execution_count": 4,
      "outputs": [
        {
          "output_type": "stream",
          "text": [
            "/content/gdrive/.shortcut-targets-by-id/1qwJK2jyGMl2dPnVFe6JNZvrrG45HoonZ/DL_Group_Project/Dataset/Preprocessed_Data\n"
          ],
          "name": "stdout"
        }
      ]
    },
    {
      "cell_type": "code",
      "metadata": {
        "id": "wGessAIraAax"
      },
      "source": [
        "from utilities import PHONEME_MAPPER"
      ],
      "execution_count": 5,
      "outputs": []
    },
    {
      "cell_type": "code",
      "metadata": {
        "id": "pq9v6Y_waDMc"
      },
      "source": [
        "report_train_path = \"reports_train_\"\n",
        "report_dev_path = \"reports_dev_\"\n",
        "model_path = \"_1_100.csv\"\n",
        "\n",
        "column_names = [\"Phoneme Tag\", \"Class\", \"Precision_Train\", \"Recall_Train\",\n",
        "                \"F1_Train\", \"Support_Train\", \"Precision_Dev\", \"Recall_Dev\",\n",
        "                \"F1_Dev\", \"Support_Dev\"]\n",
        "\n",
        "phoneme_tag = list()\n",
        "class_names = list()\n",
        "precision_train = list()\n",
        "recall_train = list()\n",
        "f1_train = list()\n",
        "support_train = list()\n",
        "\n",
        "precision_dev = list()\n",
        "recall_dev = list()\n",
        "f1_dev = list()\n",
        "support_dev = list()\n",
        "\n",
        "rows = list()\n",
        "\n",
        "df = pd.DataFrame(columns = column_names)\n",
        "for phoneme_index, phoneme_tag in PHONEME_MAPPER.items():\n",
        "\n",
        "  train_path = drive_path + report_train_path + str(phoneme_tag) + model_path\n",
        "  if not os.path.isfile(train_path):\n",
        "    continue\n",
        "  dev_path = drive_path + report_dev_path + str(phoneme_tag) + model_path\n",
        "  if not os.path.isfile(dev_path):\n",
        "    continue\n",
        "  \n",
        "  train_report = np.genfromtxt(train_path, delimiter=\",\", skip_header=1)[:2, :]\n",
        "  dev_report = np.genfromtxt(dev_path, delimiter=\",\", skip_header=1)[:2, :]\n",
        "\n",
        "  class_0_row = list()\n",
        "  class_1_row = list()\n",
        "\n",
        "  row_train_0 = train_report[0, :]\n",
        "  row_dev_0 = dev_report[0, :]\n",
        "  class_0_row = [phoneme_tag, 0] + list(row_train_0) + list(row_dev_0)\n",
        "  rows.append(class_0_row)\n",
        "\n",
        "  row_train_1 = train_report[1, :]\n",
        "  row_dev_1 = dev_report[1, :]\n",
        "  class_1_row = [phoneme_tag, 1] + list(row_train_1) + list(row_dev_1)\n",
        "  rows.append(class_1_row)\n",
        "\n",
        "df = pd.DataFrame(rows, columns = column_names)\n",
        "df.to_csv(drive_path + \"Shallow_Detector_Report_Final_Updated.csv\", index = False)"
      ],
      "execution_count": 6,
      "outputs": []
    },
    {
      "cell_type": "code",
      "metadata": {
        "id": "EwyE7JyBaLs7"
      },
      "source": [
        ""
      ],
      "execution_count": null,
      "outputs": []
    }
  ]
}