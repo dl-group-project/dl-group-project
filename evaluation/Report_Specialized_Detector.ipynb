{
  "nbformat": 4,
  "nbformat_minor": 0,
  "metadata": {
    "colab": {
      "name": "Report_Specialized_Detector.ipynb",
      "provenance": [],
      "collapsed_sections": []
    },
    "kernelspec": {
      "name": "python3",
      "display_name": "Python 3"
    },
    "language_info": {
      "name": "python"
    }
  },
  "cells": [
    {
      "cell_type": "code",
      "metadata": {
        "id": "M_4Y8XaEIniK"
      },
      "source": [
        "#On top of previous shallow detector code"
      ],
      "execution_count": 1,
      "outputs": []
    },
    {
      "cell_type": "code",
      "metadata": {
        "id": "_42_QfNyIxMZ"
      },
      "source": [
        "import pandas as pd\n",
        "import numpy as np\n",
        "import os"
      ],
      "execution_count": 2,
      "outputs": []
    },
    {
      "cell_type": "code",
      "metadata": {
        "colab": {
          "base_uri": "https://localhost:8080/"
        },
        "id": "_YeYEYOZIx0p",
        "outputId": "266c584c-f611-4261-978f-12f35d695638"
      },
      "source": [
        "from google.colab import drive\n",
        "drive.mount('/content/gdrive')"
      ],
      "execution_count": 3,
      "outputs": [
        {
          "output_type": "stream",
          "text": [
            "Mounted at /content/gdrive\n"
          ],
          "name": "stdout"
        }
      ]
    },
    {
      "cell_type": "code",
      "metadata": {
        "id": "gmJCV5ezI0kj"
      },
      "source": [
        "drive_path = '/content/gdrive/MyDrive/DL_Group_Project/experiments/specialized_detectors/reports/'"
      ],
      "execution_count": 14,
      "outputs": []
    },
    {
      "cell_type": "code",
      "metadata": {
        "colab": {
          "base_uri": "https://localhost:8080/"
        },
        "id": "PCA_URg-JPuy",
        "outputId": "b77b591f-075f-4866-8187-35d6962c8c1e"
      },
      "source": [
        "%cd /content/gdrive/MyDrive/DL_Group_Project/Utilities/\n",
        "from utilities import *"
      ],
      "execution_count": 5,
      "outputs": [
        {
          "output_type": "stream",
          "text": [
            "/content/gdrive/.shortcut-targets-by-id/1qwJK2jyGMl2dPnVFe6JNZvrrG45HoonZ/DL_Group_Project/Utilities\n"
          ],
          "name": "stdout"
        }
      ]
    },
    {
      "cell_type": "code",
      "metadata": {
        "colab": {
          "base_uri": "https://localhost:8080/"
        },
        "id": "64nBhi-SJfYB",
        "outputId": "baa12497-6c60-467b-df59-d1568a551955"
      },
      "source": [
        "\n",
        "report_train_path = \"train_\"\n",
        "report_dev_path = \"reports_dev_\"\n",
        "model_path = \"_1_30.csv\" #model version 1, epoch 30\n",
        "\n",
        "column_names = [\"Task Name\",\"Phoneme Tag\", \"Class\", \"Precision_Train\", \"Recall_Train\",\n",
        "                \"F1_Train\", \"Support_Train\", \"Precision_Dev\", \"Recall_Dev\",\n",
        "                \"F1_Dev\", \"Support_Dev\"]\n",
        "\n",
        "precision_train = list()\n",
        "recall_train = list()\n",
        "f1_train = list()\n",
        "support_train = list()\n",
        "\n",
        "precision_dev = list()\n",
        "recall_dev = list()\n",
        "f1_dev = list()\n",
        "support_dev = list()\n",
        "\n",
        "rows = list()\n",
        "\n",
        "df = pd.DataFrame(columns = column_names)\n",
        "for task_name, task_phoneme in SPECIALIZED_TASKS.items():\n",
        "\n",
        "  train_path = drive_path + report_train_path + str(task_name) + model_path\n",
        "  print(train_path)\n",
        "  if not os.path.isfile(train_path):\n",
        "    continue\n",
        "  dev_path = drive_path + report_dev_path + str(task_name) + model_path\n",
        "  if not os.path.isfile(dev_path):\n",
        "    continue\n",
        "  \n",
        "  train_report = np.genfromtxt(train_path, delimiter=\",\", skip_header=1)[:2, :]\n",
        "  dev_report = np.genfromtxt(dev_path, delimiter=\",\", skip_header=1)[:2, :]\n",
        "\n",
        "  class_0_row = list()\n",
        "  class_1_row = list()\n",
        "\n",
        "  row_train_0 = train_report[0, :]\n",
        "  row_dev_0 = dev_report[0, :]\n",
        "  class_0_row = [task_name,task_phoneme[0], 0] + list(row_train_0) + list(row_dev_0)\n",
        "  rows.append(class_0_row)\n",
        "\n",
        "  row_train_1 = train_report[1, :]\n",
        "  row_dev_1 = dev_report[1, :]\n",
        "  class_1_row = [task_name,task_phoneme[1], 1] + list(row_train_1) + list(row_dev_1)\n",
        "  rows.append(class_1_row)\n",
        "\n",
        "df = pd.DataFrame(rows, columns = column_names)\n",
        "df.to_csv(drive_path + \"Specialized_Detector_Report_Final.csv\", index = False)"
      ],
      "execution_count": 15,
      "outputs": [
        {
          "output_type": "stream",
          "text": [
            "/content/gdrive/MyDrive/DL_Group_Project/experiments/specialized_detectors/reports/train_1_vowel_vs_consonant_1_30.csv\n",
            "/content/gdrive/MyDrive/DL_Group_Project/experiments/specialized_detectors/reports/train_3_highvowel_vs_lowvowel_1_30.csv\n",
            "/content/gdrive/MyDrive/DL_Group_Project/experiments/specialized_detectors/reports/train_4_voiced_vs_unvoiced_fricatives_1_30.csv\n",
            "/content/gdrive/MyDrive/DL_Group_Project/experiments/specialized_detectors/reports/train_5_ss_vs_zz_1_30.csv\n",
            "/content/gdrive/MyDrive/DL_Group_Project/experiments/specialized_detectors/reports/train_6_b_vs_p_1_30.csv\n",
            "/content/gdrive/MyDrive/DL_Group_Project/experiments/specialized_detectors/reports/train_7_dh_vs_th_1_30.csv\n",
            "/content/gdrive/MyDrive/DL_Group_Project/experiments/specialized_detectors/reports/train_8_ww_vs_yy_1_30.csv\n",
            "/content/gdrive/MyDrive/DL_Group_Project/experiments/specialized_detectors/reports/train_9_ee_vs_aw_1_30.csv\n",
            "/content/gdrive/MyDrive/DL_Group_Project/experiments/specialized_detectors/reports/train_10_ah_vs_aw_1_30.csv\n",
            "/content/gdrive/MyDrive/DL_Group_Project/experiments/specialized_detectors/reports/train_11_mm_vs_nn_1_30.csv\n"
          ],
          "name": "stdout"
        }
      ]
    }
  ]
}