{
  "nbformat": 4,
  "nbformat_minor": 0,
  "metadata": {
    "colab": {
      "name": "Complete_Network.ipynb",
      "provenance": [],
      "collapsed_sections": [],
      "machine_shape": "hm"
    },
    "kernelspec": {
      "name": "python3",
      "display_name": "Python 3"
    },
    "language_info": {
      "name": "python"
    },
    "accelerator": "GPU"
  },
  "cells": [
    {
      "cell_type": "markdown",
      "metadata": {
        "id": "pQ0m9yaDqUnF"
      },
      "source": [
        "# Frame to Phoneme Classifier"
      ]
    },
    {
      "cell_type": "code",
      "metadata": {
        "id": "lS7elo3dEOZK",
        "colab": {
          "base_uri": "https://localhost:8080/"
        },
        "outputId": "9cc2b76f-6a7f-4062-a963-2654de0e335c"
      },
      "source": [
        "from google.colab import drive\n",
        "drive.mount('/content/gdrive')"
      ],
      "execution_count": 1,
      "outputs": [
        {
          "output_type": "stream",
          "text": [
            "Mounted at /content/gdrive\n"
          ],
          "name": "stdout"
        }
      ]
    },
    {
      "cell_type": "code",
      "metadata": {
        "id": "bJQF8XwhESvy"
      },
      "source": [
        "drivepath_shallow = '/content/gdrive/MyDrive/DL_Group_Project/Dataset/Preprocessed_Data'"
      ],
      "execution_count": 2,
      "outputs": []
    },
    {
      "cell_type": "code",
      "metadata": {
        "id": "zBC6Ip5v-EUH"
      },
      "source": [
        "drivepath_spec = '/content/gdrive/MyDrive/DL_Group_Project/experiments/specialized_detectors/models'"
      ],
      "execution_count": 39,
      "outputs": []
    },
    {
      "cell_type": "code",
      "metadata": {
        "id": "gx3YNBJGwZxW"
      },
      "source": [
        "drivepath_final = '/content/gdrive/MyDrive/DL_Group_Project/Dataset/Preprocessed_Data'"
      ],
      "execution_count": 42,
      "outputs": []
    },
    {
      "cell_type": "code",
      "metadata": {
        "id": "tNu7076tIgbg",
        "colab": {
          "base_uri": "https://localhost:8080/"
        },
        "outputId": "ccba4b63-0e92-48a5-b9e8-2250197e10a5"
      },
      "source": [
        "!pip install tqdm"
      ],
      "execution_count": 4,
      "outputs": [
        {
          "output_type": "stream",
          "text": [
            "Requirement already satisfied: tqdm in /usr/local/lib/python3.7/dist-packages (4.41.1)\n"
          ],
          "name": "stdout"
        }
      ]
    },
    {
      "cell_type": "code",
      "metadata": {
        "id": "a0sSLZGvAcnu"
      },
      "source": [
        "import numpy as np\n",
        "import torch\n",
        "import torch.nn as nn\n",
        "from torch.utils.data import Dataset, DataLoader\n",
        "import os\n",
        "from tqdm import tqdm\n",
        "import time\n",
        "from sklearn.metrics import classification_report\n",
        "from sklearn.metrics import confusion_matrix\n",
        "import pandas as pd"
      ],
      "execution_count": 5,
      "outputs": []
    },
    {
      "cell_type": "code",
      "metadata": {
        "id": "toPNjU3GMS7A"
      },
      "source": [
        "NUM_EPOCHS = 100\n",
        "BATCH_SIZE = 64\n",
        "HIDDEN_SIZE_shallow = 128\n",
        "HIDDEN_SIZE_spec = 128\n",
        "MODEL_VERSION = 1\n",
        "LEARNING_RATE = 0.01\n",
        "LOGISTIC_THRESHOLD = 0.5\n",
        "OTHER_PHONEMES_PERCENT = 0.1"
      ],
      "execution_count": 6,
      "outputs": []
    },
    {
      "cell_type": "code",
      "metadata": {
        "id": "HlpeV6MJHvzv",
        "colab": {
          "base_uri": "https://localhost:8080/"
        },
        "outputId": "ea8cb40b-6985-4649-c1b9-871212497f8b"
      },
      "source": [
        "cuda = torch.cuda.is_available()\n",
        "num_workers = 8 if cuda else 0\n",
        "DEVICE = \"cuda\" if cuda else \"cpu\"\n",
        "print(\"Cuda = \"+str(cuda)+\" with num_workers = \"+str(num_workers))"
      ],
      "execution_count": 7,
      "outputs": [
        {
          "output_type": "stream",
          "text": [
            "Cuda = True with num_workers = 8\n"
          ],
          "name": "stdout"
        }
      ]
    },
    {
      "cell_type": "code",
      "metadata": {
        "id": "XnYfqte6xK-6"
      },
      "source": [
        "class PhonemesDataset(Dataset):\n",
        "    \n",
        "    def __init__(self, basepath, mode):\n",
        "      phoneme_features = np.zeros((1, 40))  # eliminate this row\n",
        "      phoneme_labels = np.zeros((1))  # eliminate this row\n",
        "\n",
        "      with os.scandir(basepath) as entries:\n",
        "        for entry in entries:\n",
        "          if entry.is_file():\n",
        "            if \"features\" in entry.name and mode in entry.name:\n",
        "              phoneme_tag = entry.name.split(\"_\")[0]\n",
        "\n",
        "              features_filepath = entry.path\n",
        "              labels_filepath = f\"{basepath}/{phoneme_tag}_{mode}_labels.npy\"\n",
        "\n",
        "              other_phoneme_features = np.load(features_filepath, allow_pickle=True)\n",
        "              other_phoneme_labels = np.load(labels_filepath, allow_pickle=True)\n",
        "              \n",
        "              # stack to phoneme features\n",
        "              phoneme_features = np.concatenate((phoneme_features, other_phoneme_features))\n",
        "              phoneme_labels = np.concatenate((phoneme_labels, other_phoneme_labels))\n",
        "              \n",
        "      self.X = phoneme_features[1:]\n",
        "      self.Y = phoneme_labels[1:]\n",
        "\n",
        "    def __len__(self):\n",
        "        return len(self.X)\n",
        " \n",
        "    # get a row at an index\n",
        "    def __getitem__(self, index):\n",
        "        x = torch.Tensor(self.X[index]).float()\n",
        "        y = torch.as_tensor(self.Y[index]).long()\n",
        "    \n",
        "        return x,y"
      ],
      "execution_count": 8,
      "outputs": []
    },
    {
      "cell_type": "code",
      "metadata": {
        "id": "kAY1D8WK6PpK"
      },
      "source": [
        "class SpecializedDataset(Dataset):\n",
        "    \n",
        "    def __init__(self, datapath, mode, task_name, phonemes_class_0, phonemes_class_1):\n",
        "      \"\"\"\n",
        "      phonemes_class_0: list of phoneme names for class 0\n",
        "      phonemes_class_1: list of phoneme names for class 1\n",
        "      \"\"\"\n",
        "      complete_features = np.zeros((1, 40))  # eliminate this row\n",
        "      complete_labels = np.zeros((1))  # eliminate this row\n",
        "\n",
        "      # go through all files in datapath, check phoneme if class=0 or class=1\n",
        "      # assign that label and discard silence frames\n",
        "      class_0_phonemes_found = []\n",
        "      class_1_phonemes_found = []\n",
        "      with os.scandir(datapath) as entries:\n",
        "        for entry in entries:\n",
        "          if entry.is_file():\n",
        "            if \"features\" in entry.name and mode in entry.name:\n",
        "              phoneme_tag = entry.name.split(\"_\")[0]\n",
        "\n",
        "              # find phoneme in class_0 or class_1 list and assign label\n",
        "              phoneme_class = None\n",
        "              if phoneme_tag in phonemes_class_0:\n",
        "                phoneme_class = 0\n",
        "                class_0_phonemes_found.append(phoneme_tag)\n",
        "              if phoneme_tag in phonemes_class_1:\n",
        "                phoneme_class = 1\n",
        "                class_1_phonemes_found.append(phoneme_tag)\n",
        "\n",
        "              if phoneme_class is None:\n",
        "                print(f\"phoneme '{phoneme_tag}' not found on class 0 nor class 1 lists; skip\") if DEBUG else None\n",
        "                continue\n",
        "\n",
        "              print(f\"phoneme '{phoneme_tag}' is class: {phoneme_class}\") if DEBUG else None\n",
        "\n",
        "              features_filepath = entry.path\n",
        "              labels_filepath = f\"{datapath}/{phoneme_tag}_{mode}_labels.npy\"\n",
        "\n",
        "              phoneme_features = np.load(features_filepath, allow_pickle=True)\n",
        "              phoneme_labels = np.load(labels_filepath, allow_pickle=True)\n",
        "              print(f\"{phoneme_tag} total features: {phoneme_features.shape}\") if DEBUG else None\n",
        "              print(f\"{phoneme_tag} total labels: {phoneme_labels.shape}\") if DEBUG else None\n",
        "\n",
        "              # find frames where label != 0 (non-silence)\n",
        "              non_zero_indexes = phoneme_labels.nonzero()\n",
        "              phoneme_features = phoneme_features[non_zero_indexes]\n",
        "              phoneme_labels = phoneme_labels[non_zero_indexes]\n",
        "              print(f\"{phoneme_tag} no-silence features: {phoneme_features.shape}\") if DEBUG else None\n",
        "              print(f\"{phoneme_tag} no-silence labels: {phoneme_labels.shape}\") if DEBUG else None\n",
        "\n",
        "              phoneme_labels[:] = phoneme_class  # label=class\n",
        "\n",
        "              # stack to phoneme features\n",
        "              complete_features = np.concatenate((complete_features, phoneme_features))\n",
        "              complete_labels = np.concatenate((complete_labels, phoneme_labels))\n",
        "      \n",
        "      self.X = complete_features[1:]\n",
        "      self.Y = complete_labels[1:]\n",
        "      print(f\"[task={task_name}] {self.X.shape} features\")\n",
        "      print(f\"[task={task_name}] {self.Y.shape} labels\")\n",
        "\n",
        "      if sorted(class_0_phonemes_found) != sorted(phonemes_class_0):\n",
        "        raise Exception(f\"class 0 phonemes found ({sorted(class_0_phonemes_found)}) != expected phonemes ({sorted(phonemes_class_0)})\")\n",
        " \n",
        "      if sorted(class_1_phonemes_found) != sorted(phonemes_class_1):\n",
        "        raise Exception(f\"class 1 phonemes found ({sorted(class_1_phonemes_found)}) != expected phonemes ({sorted(phonemes_class_1)})\")\n",
        " \n",
        "\n",
        "    def __len__(self):\n",
        "        return len(self.X)\n",
        " \n",
        "    # get a row at an index\n",
        "    def __getitem__(self, index):\n",
        "        x = torch.Tensor(self.X[index]).float()\n",
        "        y = torch.as_tensor(self.Y[index]).float()\n",
        "    \n",
        "        return x,y"
      ],
      "execution_count": 9,
      "outputs": []
    },
    {
      "cell_type": "code",
      "metadata": {
        "id": "psP0nwMNE9yv"
      },
      "source": [
        "def make_dataloader(dataset, train, batch_size):\n",
        "  if train:\n",
        "    shuffle = True\n",
        "    drop_last = True\n",
        "  else:\n",
        "    shuffle = False\n",
        "    drop_last = False\n",
        "    \n",
        "  loader = DataLoader(dataset=dataset, batch_size=batch_size,\n",
        "                      drop_last=drop_last, shuffle=shuffle,\n",
        "                      pin_memory=True, num_workers=8)\n",
        "  \n",
        "  return loader"
      ],
      "execution_count": 10,
      "outputs": []
    },
    {
      "cell_type": "code",
      "metadata": {
        "id": "--p_S9L8GWRd"
      },
      "source": [
        "class PhonemeShallowDetector(nn.Module):\n",
        "  \n",
        "  def __init__(self, hidden_size, activation):\n",
        "    super(PhonemeShallowDetector, self).__init__()\n",
        "    \n",
        "    self.linear_layer = nn.Linear(in_features=40, out_features=hidden_size)\n",
        "    self.bn_layer = nn.BatchNorm1d(num_features=hidden_size)\n",
        "    self.activation = activation\n",
        "    self.output_layer = nn.Linear(in_features=hidden_size, out_features=1)\n",
        "    self.sigmoid = nn.Sigmoid()\n",
        "    seq_params = [\n",
        "      self.linear_layer,\n",
        "      self.bn_layer,\n",
        "      self.activation,\n",
        "      self.output_layer,\n",
        "      self.sigmoid\n",
        "    ]\n",
        "\n",
        "    self.network = nn.Sequential(*seq_params)\n",
        "    \n",
        "  def forward(self, x):\n",
        "    return self.network(x)"
      ],
      "execution_count": 11,
      "outputs": []
    },
    {
      "cell_type": "code",
      "metadata": {
        "id": "DAI4xDfb6XU-"
      },
      "source": [
        "class SpecializedShallowDetector(nn.Module):\n",
        "  \n",
        "  def __init__(self, hidden_size, activation):\n",
        "    super(SpecializedShallowDetector, self).__init__()\n",
        "    \n",
        "    self.linear_layer = nn.Linear(in_features=40, out_features=hidden_size)\n",
        "    self.bn_layer = nn.BatchNorm1d(num_features=hidden_size)\n",
        "    self.activation = activation\n",
        "    self.output_layer = nn.Linear(in_features=hidden_size, out_features=1)\n",
        "    self.sigmoid = nn.Sigmoid()\n",
        "    seq_params = [\n",
        "      self.linear_layer,\n",
        "      self.bn_layer,\n",
        "      self.activation,\n",
        "      self.output_layer,\n",
        "      self.sigmoid\n",
        "    ]\n",
        "\n",
        "    self.network = nn.Sequential(*seq_params)\n",
        "    \n",
        "  def forward(self, x):\n",
        "    return self.network(x)"
      ],
      "execution_count": 12,
      "outputs": []
    },
    {
      "cell_type": "code",
      "metadata": {
        "id": "Z65FZ5qdK5El"
      },
      "source": [
        "class FramePhonemeClassifierModel(nn.Module):\n",
        "  \n",
        "  def __init__(self, phoneme_mapper, specialized_mapper):\n",
        "    super(FramePhonemeClassifierModel, self).__init__()\n",
        "    \n",
        "    self.phoneme_mapper = phoneme_mapper\n",
        "    self.specialized_mapper = specialized_mapper\n",
        "\n",
        "    # specialized detectors\n",
        "\n",
        "    specialized_detectors = []\n",
        "    for spec_idx, spec_type in enumerate(self.specialized_mapper):\n",
        "      specialized_detector = SpecializedShallowDetector(hidden_size=HIDDEN_SIZE_spec, \n",
        "                                            activation=nn.LeakyReLU()).to(DEVICE)\n",
        "      specialized_detectors.append(specialized_detector)\n",
        "    \n",
        "    self.specialized_detectors = nn.ModuleList(specialized_detectors)\n",
        "\n",
        "\n",
        "    shallow_detectors = []\n",
        "    # generate the PhonemeShallowDetectors \n",
        "    for phoneme_index, phoneme_tag in phoneme_mapper.items():\n",
        "      shallow_detector = PhonemeShallowDetector(hidden_size=HIDDEN_SIZE_shallow, \n",
        "                                                activation=nn.LeakyReLU())\n",
        "      shallow_detectors.append(shallow_detector)\n",
        "\n",
        "    self.shallow_detectors = nn.ModuleList(shallow_detectors)\n",
        "\n",
        "    self.linear_layer = nn.Linear(in_features=len(phoneme_mapper)+len(specialized_mapper), out_features=len(phoneme_mapper)+len(specialized_mapper))\n",
        "\n",
        "    self.initialize_specialized_detectors()\n",
        "    self.initialize_shallow_detectors()\n",
        "\n",
        "  def initialize_shallow_detectors(self):\n",
        "    # load weights from shallow detectors pre-trained models\n",
        "    for phoneme_index, phoneme_tag in self.phoneme_mapper.items():\n",
        "      phoneme_shallow_detector = self.shallow_detectors[phoneme_index]\n",
        "\n",
        "      phoneme_model_path = f\"{drivepath_shallow}/shallow_detectors/model_{phoneme_tag}_{MODEL_VERSION}_99\"\n",
        "      temp = torch.load(phoneme_model_path)\n",
        "      phoneme_shallow_detector.load_state_dict(temp['model_state_dict'])\n",
        "  \n",
        "  def initialize_specialized_detectors(self):\n",
        "    # load weights from shallow detectors pre-trained models\n",
        "     for spec_idx, spec_type in enumerate(self.specialized_mapper):\n",
        "      specialized_detector = self.specialized_detectors[spec_idx]\n",
        "\n",
        "      spec_model_path = f\"{drivepath_spec}/model_{spec_type}_{MODEL_VERSION}_29\"\n",
        "      temp = torch.load(spec_model_path)\n",
        "      specialized_detector.load_state_dict(temp['model_state_dict'])\n",
        "  \n",
        "  def forward(self, x):\n",
        "    \n",
        "    # go through specialized\n",
        "    \n",
        "    total_outputs = []\n",
        "    for phoneme_index, phoneme_tag in self.phoneme_mapper.items():\n",
        "      phoneme_shallow_detector = self.shallow_detectors[phoneme_index]\n",
        "\n",
        "      # run frame through shallow detector\n",
        "      output = phoneme_shallow_detector(x)\n",
        "      total_outputs.append(output.reshape(-1))\n",
        "    \n",
        "    for spec_idx, spec_type in enumerate(self.specialized_mapper):\n",
        "      specialized_detector = self.specialized_detectors[spec_idx]\n",
        "      output = specialized_detector(x)\n",
        "      total_outputs.append(output.reshape(-1))\n",
        "\n",
        "    # convert to torch tensor\n",
        "    total_outputs = torch.vstack(total_outputs).T\n",
        "    outputs = self.linear_layer(total_outputs)\n",
        "\n",
        "    return outputs"
      ],
      "execution_count": 28,
      "outputs": []
    },
    {
      "cell_type": "code",
      "metadata": {
        "id": "KNhuSUg0_5sH"
      },
      "source": [
        "class FramePhonemeClassifier():\n",
        "\n",
        "  def __init__(self, phoneme_mapper, specialized_mapper):\n",
        "\n",
        "    train_data = PhonemesDataset(basepath=drivepath_shallow, mode=\"train\")\n",
        "    self.train_loader = make_dataloader(dataset=train_data, train=True, batch_size=BATCH_SIZE)\n",
        "    print(f\"train_data.shape: {train_data.X.shape}\")\n",
        "\n",
        "    dev_data = PhonemesDataset(basepath=drivepath_shallow, mode=\"dev\")\n",
        "    self.dev_loader = make_dataloader(dataset=dev_data, train=False, batch_size=BATCH_SIZE)\n",
        "    print(f\"dev_data.shape: {dev_data.X.shape}\")\n",
        "    \n",
        "    self.model = FramePhonemeClassifierModel(phoneme_mapper, specialized_mapper).to(DEVICE)\n",
        "\n",
        "    self.criterion = nn.CrossEntropyLoss()\n",
        "    self.optimizer = torch.optim.SGD(self.model.parameters(), lr=LEARNING_RATE, momentum=0.9)\n",
        "    self.scheduler = torch.optim.lr_scheduler.ReduceLROnPlateau(self.optimizer, 'min')\n",
        "\n",
        "    self.train_loss_per_epoch = []\n",
        "    self.train_acc_per_epoch = []\n",
        "    self.dev_loss_per_epoch = []\n",
        "    self.dev_acc_per_epoch = []\n",
        "  \n",
        "  def save_model(self, epoch):\n",
        "    model_epoch_path = \"{}/complete_classifier/model_{}_{}\".format(drivepath_final,\n",
        "                                                                 MODEL_VERSION, \n",
        "                                                                 epoch)\n",
        "    torch.save({\n",
        "        'model_state_dict': self.model.state_dict(),\n",
        "        'optimizer_state_dict': self.optimizer.state_dict(),\n",
        "        'scheduler_state_dict': self.scheduler.state_dict(),\n",
        "    }, model_epoch_path)\n",
        "    # print('saved model: {}'.format(model_epoch_path))\n",
        "\n",
        "  def train(self, epochs):\n",
        "    # Run training and track with wandb\n",
        "    total_batches = len(self.train_loader) * epochs\n",
        "    example_ct = 0  # number of examples seen\n",
        "    batch_ct = 0\n",
        "\n",
        "    for epoch in tqdm(range(epochs)):\n",
        "        train_loss = 0.0\n",
        "        start_time = time.time()\n",
        "        total_predictions = 0\n",
        "        correct_predictions = 0\n",
        "\n",
        "        true_labels = []\n",
        "        predictions = []\n",
        "        for _, (features, targets) in enumerate(self.train_loader):\n",
        "            batch_loss, outputs = self.train_batch(features, targets)\n",
        "            train_loss += batch_loss\n",
        "\n",
        "            example_ct += len(features)\n",
        "            batch_ct += 1\n",
        "\n",
        "            # check number of correct predictions\n",
        "            output_classes = torch.argmax(outputs.log_softmax(1), dim=1).detach().cpu()  # convert to class labels\n",
        "            total_predictions += len(output_classes)\n",
        "            correct_predictions += torch.sum(targets == output_classes)\n",
        "\n",
        "            true_labels += list(targets)\n",
        "            predictions += list(output_classes)\n",
        "\n",
        "        end_time = time.time()\n",
        "\n",
        "        train_loss /= example_ct\n",
        "        print(f\"training loss: {train_loss}; time: {end_time - start_time}s\")\n",
        "        \n",
        "        if (epoch + 1) % 10 == 0 or epoch == (epochs - 1):\n",
        "          report = classification_report(true_labels, predictions, output_dict=True)\n",
        "          df = pd.DataFrame(report).transpose()\n",
        "          df.to_csv(f\"{drivepath_final}/complete_classifier/reports_train_{MODEL_VERSION}_{epoch + 1}.csv\", index=False)\n",
        "          self.save_model(epoch)\n",
        "\n",
        "        train_acc = (correct_predictions/total_predictions) * 100.0\n",
        "        print(f\"training accuracy: {train_acc}%\")\n",
        "\n",
        "        self.train_loss_per_epoch.append(train_loss)\n",
        "        self.train_acc_per_epoch.append(train_acc)\n",
        "\n",
        "        # evaluate model with validation data\n",
        "        dev_loss, dev_acc = self.evaluate_model(epoch)\n",
        "        \n",
        "        self.dev_loss_per_epoch.append(dev_loss)\n",
        "        self.dev_acc_per_epoch.append(dev_acc)\n",
        "\n",
        "        # Step with the scheduler\n",
        "        self.scheduler.step(dev_loss)\n",
        "      \n",
        "    # epoch completed, save model\n",
        "    self.save_model(epoch)\n",
        "\n",
        "  def train_batch(self, features, targets):\n",
        "    features, targets = features.to(DEVICE), targets.to(DEVICE)\n",
        "    targets = targets.reshape(-1, 1)\n",
        "\n",
        "    self.optimizer.zero_grad()\n",
        "\n",
        "    # Forward pass ➡\n",
        "    outputs = self.model(features)\n",
        "    loss = self.criterion(outputs, targets.reshape(-1))  # compare with target outputs\n",
        "    # Backward pass ⬅\n",
        "    loss.backward()\n",
        "    # Step with optimizer\n",
        "    self.optimizer.step()\n",
        "\n",
        "    return loss.item(), outputs\n",
        "\n",
        "  def evaluate_model(self, epoch):\n",
        "\n",
        "    with torch.no_grad():\n",
        "      self.model.eval()\n",
        "\n",
        "      running_loss = 0.0\n",
        "      total_predictions = 0.0\n",
        "      correct_predictions = 0.0\n",
        "\n",
        "      true_labels = []\n",
        "      predictions = []\n",
        "\n",
        "      example_ct = 0\n",
        "      start_time = time.time()\n",
        "      for batch_idx, (features, targets) in enumerate(self.dev_loader):\n",
        "        features = features.to(DEVICE)\n",
        "        targets = targets.to(DEVICE)\n",
        "        targets = targets.reshape(-1, 1)\n",
        "\n",
        "        example_ct += len(features)\n",
        "\n",
        "        outputs = self.model(features)\n",
        "        outputs = outputs.to(DEVICE)\n",
        "\n",
        "        # check number of correct predictions\n",
        "        output_classes = torch.argmax(outputs.log_softmax(1), dim=1)  # convert to class labels\n",
        "        total_predictions += len(output_classes)\n",
        "        correct_predictions += torch.sum(targets.reshape(-1) == output_classes)\n",
        "\n",
        "        loss = self.criterion(outputs, targets.reshape(-1)).detach()\n",
        "        running_loss += loss.item()\n",
        "\n",
        "        true_labels += list(targets.detach().cpu())\n",
        "        predictions += list(output_classes.detach().cpu())\n",
        "      \n",
        "      end_time = time.time()\n",
        "\n",
        "      running_loss /= example_ct\n",
        "      print(f\"testing loss: {running_loss}; time: {end_time - start_time}s\")\n",
        "      acc = (correct_predictions/total_predictions) * 100.0\n",
        "      print(f\"testing accuracy: {acc}%\")\n",
        "\n",
        "      if (epoch + 1) % 10 == 0:\n",
        "        report = classification_report(true_labels, predictions, output_dict=True)\n",
        "        df = pd.DataFrame(report).transpose()\n",
        "        df.to_csv(f\"{drivepath_final}/complete_classifier/reports_dev_{MODEL_VERSION}_{epoch + 1}.csv\", index=False)\n",
        "  \n",
        "      return running_loss, acc"
      ],
      "execution_count": 58,
      "outputs": []
    },
    {
      "cell_type": "markdown",
      "metadata": {
        "id": "hmgukhuSqx7q"
      },
      "source": [
        "# Train classifier"
      ]
    },
    {
      "cell_type": "code",
      "metadata": {
        "colab": {
          "base_uri": "https://localhost:8080/"
        },
        "id": "9RgaXKNzySdO",
        "outputId": "abefd31c-b20c-46e4-bbff-971ba97d845a"
      },
      "source": [
        "%cd /content/gdrive/MyDrive/DL_Group_Project/Dataset/Preprocessed_Data"
      ],
      "execution_count": 44,
      "outputs": [
        {
          "output_type": "stream",
          "text": [
            "/content/gdrive/.shortcut-targets-by-id/1qwJK2jyGMl2dPnVFe6JNZvrrG45HoonZ/DL_Group_Project/Dataset/Preprocessed_Data\n"
          ],
          "name": "stdout"
        }
      ]
    },
    {
      "cell_type": "code",
      "metadata": {
        "id": "tjbfaEh8yYL1"
      },
      "source": [
        "from utilities import PHONEME_MAPPER\n",
        "from utilities import SPECIALIZED_TASKS"
      ],
      "execution_count": 31,
      "outputs": []
    },
    {
      "cell_type": "code",
      "metadata": {
        "id": "l6IVbR4w7We_"
      },
      "source": [
        ""
      ],
      "execution_count": 31,
      "outputs": []
    },
    {
      "cell_type": "code",
      "metadata": {
        "colab": {
          "base_uri": "https://localhost:8080/"
        },
        "id": "N7TH0JJh3QiH",
        "outputId": "47b64536-249d-4292-a06d-dab3c680082d"
      },
      "source": [
        "%cd /"
      ],
      "execution_count": 32,
      "outputs": [
        {
          "output_type": "stream",
          "text": [
            "/\n"
          ],
          "name": "stdout"
        }
      ]
    },
    {
      "cell_type": "code",
      "metadata": {
        "colab": {
          "base_uri": "https://localhost:8080/"
        },
        "id": "M3TvLFZBygZ4",
        "outputId": "1e5f3ab5-f926-4322-c070-418b96cad952"
      },
      "source": [
        "print(PHONEME_MAPPER)"
      ],
      "execution_count": 33,
      "outputs": [
        {
          "output_type": "stream",
          "text": [
            "{0: 'SIL', 1: 'AE', 2: 'AH', 3: 'AW', 4: 'AY', 5: 'B', 6: 'EH', 7: 'D', 8: 'DH', 9: 'EE', 10: 'FF', 11: 'G', 12: 'HH', 13: 'IH', 14: 'II', 15: 'J', 16: 'K', 17: 'LL', 18: 'MM', 19: 'NN', 20: 'OH', 21: 'OO', 22: 'OW', 23: 'OY', 24: 'P', 25: 'RR', 26: 'SH', 27: 'SS', 28: 'T', 29: 'TH', 30: 'UE', 31: 'UH', 32: 'VV', 33: 'WW', 34: 'YY', 35: 'ZZ', 36: 'CH', 37: 'ER', 38: 'NG'}\n"
          ],
          "name": "stdout"
        }
      ]
    },
    {
      "cell_type": "code",
      "metadata": {
        "colab": {
          "base_uri": "https://localhost:8080/"
        },
        "id": "OYQLXKv3Bmwb",
        "outputId": "5f32225d-e6bd-4b43-dce3-0420dfa268ce"
      },
      "source": [
        "print(SPECIALIZED_TASKS)"
      ],
      "execution_count": 34,
      "outputs": [
        {
          "output_type": "stream",
          "text": [
            "{'1_vowel_vs_consonant': {0: ['EE', 'IH', 'EH', 'AE', 'UH', 'ER', 'AH', 'AW', 'OO', 'UE'], 1: ['FF', 'HH', 'MM', 'NN', 'NG', 'RR', 'SS', 'SH', 'VV', 'WW', 'YY', 'ZZ']}, '3_highvowel_vs_lowvowel': {0: ['EE', 'IH', 'UE', 'OO'], 1: ['AE', 'AH', 'AW']}, '4_voiced_vs_unvoiced_fricatives': {0: ['DH', 'VV', 'ZZ'], 1: ['FF', 'SS', 'SH', 'TH']}, '5_ss_vs_zz': {0: ['SS'], 1: ['ZZ']}, '6_b_vs_p': {0: ['B'], 1: ['P']}, '7_dh_vs_th': {0: ['DH'], 1: ['TH']}, '8_ww_vs_yy': {0: ['WW'], 1: ['YY']}, '9_ee_vs_aw': {0: ['EE'], 1: ['AW']}, '10_ah_vs_aw': {0: ['AH'], 1: ['AW']}, '11_mm_vs_nn': {0: ['MM'], 1: ['NN']}}\n"
          ],
          "name": "stdout"
        }
      ]
    },
    {
      "cell_type": "code",
      "metadata": {
        "id": "mvRk8m8CLwGn",
        "colab": {
          "base_uri": "https://localhost:8080/"
        },
        "outputId": "caf1cfae-525a-45c6-f510-7e1946029a59"
      },
      "source": [
        "classifier = FramePhonemeClassifier(PHONEME_MAPPER, SPECIALIZED_TASKS)\n",
        "classifier.train(epochs=NUM_EPOCHS)\n"
      ],
      "execution_count": 59,
      "outputs": [
        {
          "output_type": "stream",
          "text": [
            "/usr/local/lib/python3.7/dist-packages/torch/utils/data/dataloader.py:477: UserWarning: This DataLoader will create 8 worker processes in total. Our suggested max number of worker in current system is 4, which is smaller than what this DataLoader is going to create. Please be aware that excessive worker creation might get DataLoader running slow or even freeze, lower the worker number to avoid potential slowness/freeze if necessary.\n",
            "  cpuset_checked))\n"
          ],
          "name": "stderr"
        },
        {
          "output_type": "stream",
          "text": [
            "train_data.shape: (53755, 40)\n",
            "dev_data.shape: (11535, 40)\n"
          ],
          "name": "stdout"
        },
        {
          "output_type": "stream",
          "text": [
            "\n",
            "\n",
            "\n",
            "\n",
            "\n",
            "\n",
            "  0%|          | 0/100 [00:00<?, ?it/s]\u001b[A\u001b[A\u001b[A\u001b[A\u001b[A\u001b[A"
          ],
          "name": "stderr"
        },
        {
          "output_type": "stream",
          "text": [
            "training loss: 0.02446505931873181; time: 32.54579973220825s\n",
            "training accuracy: 64.27108001708984%\n"
          ],
          "name": "stdout"
        },
        {
          "output_type": "stream",
          "text": [
            "\n",
            "\n",
            "\n",
            "\n",
            "\n",
            "\n",
            "  1%|          | 1/100 [00:35<57:48, 35.03s/it]\u001b[A\u001b[A\u001b[A\u001b[A\u001b[A\u001b[A"
          ],
          "name": "stderr"
        },
        {
          "output_type": "stream",
          "text": [
            "testing loss: 0.02475894945598961; time: 2.4723756313323975s\n",
            "testing accuracy: 65.2102279663086%\n",
            "training loss: 0.008879737421776989; time: 29.922794818878174s\n",
            "training accuracy: 75.43020629882812%\n"
          ],
          "name": "stdout"
        },
        {
          "output_type": "stream",
          "text": [
            "\n",
            "\n",
            "\n",
            "\n",
            "\n",
            "\n",
            "  2%|▏         | 2/100 [01:07<55:55, 34.24s/it]\u001b[A\u001b[A\u001b[A\u001b[A\u001b[A\u001b[A"
          ],
          "name": "stderr"
        },
        {
          "output_type": "stream",
          "text": [
            "testing loss: 0.020255918911927493; time: 2.463099241256714s\n",
            "testing accuracy: 71.90290069580078%\n",
            "training loss: 0.005025507067468936; time: 29.736472845077515s\n",
            "training accuracy: 79.33924102783203%\n"
          ],
          "name": "stdout"
        },
        {
          "output_type": "stream",
          "text": [
            "\n",
            "\n",
            "\n",
            "\n",
            "\n",
            "\n",
            "  3%|▎         | 3/100 [01:39<54:20, 33.62s/it]\u001b[A\u001b[A\u001b[A\u001b[A\u001b[A\u001b[A"
          ],
          "name": "stderr"
        },
        {
          "output_type": "stream",
          "text": [
            "testing loss: 0.018589723095988938; time: 2.400667190551758s\n",
            "testing accuracy: 74.35630798339844%\n",
            "training loss: 0.0034398830318723554; time: 29.859434604644775s\n",
            "training accuracy: 81.28910827636719%\n"
          ],
          "name": "stdout"
        },
        {
          "output_type": "stream",
          "text": [
            "\n",
            "\n",
            "\n",
            "\n",
            "\n",
            "\n",
            "  4%|▍         | 4/100 [02:11<53:08, 33.22s/it]\u001b[A\u001b[A\u001b[A\u001b[A\u001b[A\u001b[A"
          ],
          "name": "stderr"
        },
        {
          "output_type": "stream",
          "text": [
            "testing loss: 0.017108033771219323; time: 2.411463975906372s\n",
            "testing accuracy: 76.23753356933594%\n",
            "training loss: 0.0025985979305245027; time: 29.806447982788086s\n",
            "training accuracy: 82.32270812988281%\n"
          ],
          "name": "stdout"
        },
        {
          "output_type": "stream",
          "text": [
            "\n",
            "\n",
            "\n",
            "\n",
            "\n",
            "\n",
            "  5%|▌         | 5/100 [02:44<52:14, 32.99s/it]\u001b[A\u001b[A\u001b[A\u001b[A\u001b[A\u001b[A"
          ],
          "name": "stderr"
        },
        {
          "output_type": "stream",
          "text": [
            "testing loss: 0.016612770496558772; time: 2.642268657684326s\n",
            "testing accuracy: 77.5899429321289%\n",
            "training loss: 0.0020606021559991484; time: 30.197794437408447s\n",
            "training accuracy: 83.26318359375%\n"
          ],
          "name": "stdout"
        },
        {
          "output_type": "stream",
          "text": [
            "\n",
            "\n",
            "\n",
            "\n",
            "\n",
            "\n",
            "  6%|▌         | 6/100 [03:17<51:36, 32.94s/it]\u001b[A\u001b[A\u001b[A\u001b[A\u001b[A\u001b[A"
          ],
          "name": "stderr"
        },
        {
          "output_type": "stream",
          "text": [
            "testing loss: 0.015993594731869096; time: 2.6073694229125977s\n",
            "testing accuracy: 78.18811798095703%\n",
            "training loss: 0.0017107970242383947; time: 30.239437341690063s\n",
            "training accuracy: 83.88147735595703%\n"
          ],
          "name": "stdout"
        },
        {
          "output_type": "stream",
          "text": [
            "\n",
            "\n",
            "\n",
            "\n",
            "\n",
            "\n",
            "  7%|▋         | 7/100 [03:49<50:56, 32.87s/it]\u001b[A\u001b[A\u001b[A\u001b[A\u001b[A\u001b[A"
          ],
          "name": "stderr"
        },
        {
          "output_type": "stream",
          "text": [
            "testing loss: 0.01552355457783572; time: 2.435168981552124s\n",
            "testing accuracy: 79.4625015258789%\n",
            "training loss: 0.0014550096469296363; time: 29.8156840801239s\n",
            "training accuracy: 84.2502212524414%\n"
          ],
          "name": "stdout"
        },
        {
          "output_type": "stream",
          "text": [
            "\n",
            "\n",
            "\n",
            "\n",
            "\n",
            "\n",
            "  8%|▊         | 8/100 [04:22<50:06, 32.68s/it]\u001b[A\u001b[A\u001b[A\u001b[A\u001b[A\u001b[A"
          ],
          "name": "stderr"
        },
        {
          "output_type": "stream",
          "text": [
            "testing loss: 0.015292251470495108; time: 2.4036953449249268s\n",
            "testing accuracy: 79.04637908935547%\n",
            "training loss: 0.0012555770604861223; time: 30.094797134399414s\n",
            "training accuracy: 84.77354431152344%\n"
          ],
          "name": "stdout"
        },
        {
          "output_type": "stream",
          "text": [
            "\n",
            "\n",
            "\n",
            "\n",
            "\n",
            "\n",
            "  9%|▉         | 9/100 [04:54<49:27, 32.61s/it]\u001b[A\u001b[A\u001b[A\u001b[A\u001b[A\u001b[A"
          ],
          "name": "stderr"
        },
        {
          "output_type": "stream",
          "text": [
            "testing loss: 0.01495902212566765; time: 2.3522698879241943s\n",
            "testing accuracy: 79.66189575195312%\n",
            "training loss: 0.0011121139246126786; time: 29.235230207443237s\n",
            "training accuracy: 85.06592559814453%\n"
          ],
          "name": "stdout"
        },
        {
          "output_type": "stream",
          "text": [
            "/usr/local/lib/python3.7/dist-packages/sklearn/metrics/_classification.py:1272: UndefinedMetricWarning: Precision and F-score are ill-defined and being set to 0.0 in labels with no predicted samples. Use `zero_division` parameter to control this behavior.\n",
            "  _warn_prf(average, modifier, msg_start, len(result))\n",
            "\n",
            "\n",
            "\n",
            "\n",
            "\n",
            "\n",
            " 10%|█         | 10/100 [05:27<49:01, 32.68s/it]\u001b[A\u001b[A\u001b[A\u001b[A\u001b[A\u001b[A"
          ],
          "name": "stderr"
        },
        {
          "output_type": "stream",
          "text": [
            "testing loss: 0.014874254914398673; time: 2.3803389072418213s\n",
            "testing accuracy: 79.79193115234375%\n",
            "training loss: 0.0009978171159712194; time: 29.759512662887573s\n",
            "training accuracy: 85.23353576660156%\n"
          ],
          "name": "stdout"
        },
        {
          "output_type": "stream",
          "text": [
            "\n",
            "\n",
            "\n",
            "\n",
            "\n",
            "\n",
            " 11%|█         | 11/100 [05:59<48:19, 32.58s/it]\u001b[A\u001b[A\u001b[A\u001b[A\u001b[A\u001b[A"
          ],
          "name": "stderr"
        },
        {
          "output_type": "stream",
          "text": [
            "testing loss: 0.01478563892696655; time: 2.552961587905884s\n",
            "testing accuracy: 80.30342102050781%\n",
            "training loss: 0.0008932535495793311; time: 29.760931730270386s\n",
            "training accuracy: 85.55199432373047%\n"
          ],
          "name": "stdout"
        },
        {
          "output_type": "stream",
          "text": [
            "\n",
            "\n",
            "\n",
            "\n",
            "\n",
            "\n",
            " 12%|█▏        | 12/100 [06:31<47:36, 32.46s/it]\u001b[A\u001b[A\u001b[A\u001b[A\u001b[A\u001b[A"
          ],
          "name": "stderr"
        },
        {
          "output_type": "stream",
          "text": [
            "testing loss: 0.01474789635968198; time: 2.4095075130462646s\n",
            "testing accuracy: 80.49414825439453%\n",
            "training loss: 0.0008193761249017946; time: 29.705825567245483s\n",
            "training accuracy: 85.6916732788086%\n"
          ],
          "name": "stdout"
        },
        {
          "output_type": "stream",
          "text": [
            "\n",
            "\n",
            "\n",
            "\n",
            "\n",
            "\n",
            " 13%|█▎        | 13/100 [07:04<46:54, 32.35s/it]\u001b[A\u001b[A\u001b[A\u001b[A\u001b[A\u001b[A"
          ],
          "name": "stderr"
        },
        {
          "output_type": "stream",
          "text": [
            "testing loss: 0.01438806214190997; time: 2.3728768825531006s\n",
            "testing accuracy: 80.81491088867188%\n",
            "training loss: 0.00074963391216644; time: 29.36022138595581s\n",
            "training accuracy: 85.80341339111328%\n"
          ],
          "name": "stdout"
        },
        {
          "output_type": "stream",
          "text": [
            "\n",
            "\n",
            "\n",
            "\n",
            "\n",
            "\n",
            " 14%|█▍        | 14/100 [07:35<46:06, 32.17s/it]\u001b[A\u001b[A\u001b[A\u001b[A\u001b[A\u001b[A"
          ],
          "name": "stderr"
        },
        {
          "output_type": "stream",
          "text": [
            "testing loss: 0.014887161102060327; time: 2.378638744354248s\n",
            "testing accuracy: 79.84394836425781%\n",
            "training loss: 0.000688634676038094; time: 29.438009023666382s\n",
            "training accuracy: 86.05854797363281%\n"
          ],
          "name": "stdout"
        },
        {
          "output_type": "stream",
          "text": [
            "\n",
            "\n",
            "\n",
            "\n",
            "\n",
            "\n",
            " 15%|█▌        | 15/100 [08:07<45:23, 32.04s/it]\u001b[A\u001b[A\u001b[A\u001b[A\u001b[A\u001b[A"
          ],
          "name": "stderr"
        },
        {
          "output_type": "stream",
          "text": [
            "testing loss: 0.014278194381914772; time: 2.2699532508850098s\n",
            "testing accuracy: 80.8322525024414%\n",
            "training loss: 0.000639357275723039; time: 29.218945264816284s\n",
            "training accuracy: 86.22244262695312%\n"
          ],
          "name": "stdout"
        },
        {
          "output_type": "stream",
          "text": [
            "\n",
            "\n",
            "\n",
            "\n",
            "\n",
            "\n",
            " 16%|█▌        | 16/100 [08:39<44:42, 31.94s/it]\u001b[A\u001b[A\u001b[A\u001b[A\u001b[A\u001b[A"
          ],
          "name": "stderr"
        },
        {
          "output_type": "stream",
          "text": [
            "testing loss: 0.013840847609360392; time: 2.4781038761138916s\n",
            "testing accuracy: 81.4911117553711%\n",
            "training loss: 0.0005966572625173252; time: 30.284449815750122s\n",
            "training accuracy: 86.39749908447266%\n"
          ],
          "name": "stdout"
        },
        {
          "output_type": "stream",
          "text": [
            "\n",
            "\n",
            "\n",
            "\n",
            "\n",
            "\n",
            " 17%|█▋        | 17/100 [09:12<44:35, 32.23s/it]\u001b[A\u001b[A\u001b[A\u001b[A\u001b[A\u001b[A"
          ],
          "name": "stderr"
        },
        {
          "output_type": "stream",
          "text": [
            "testing loss: 0.014238861329469218; time: 2.61120343208313s\n",
            "testing accuracy: 80.99696350097656%\n",
            "training loss: 0.0005586504863264043; time: 29.924036026000977s\n",
            "training accuracy: 86.47571563720703%\n"
          ],
          "name": "stdout"
        },
        {
          "output_type": "stream",
          "text": [
            "\n",
            "\n",
            "\n",
            "\n",
            "\n",
            "\n",
            " 18%|█▊        | 18/100 [09:44<44:07, 32.29s/it]\u001b[A\u001b[A\u001b[A\u001b[A\u001b[A\u001b[A"
          ],
          "name": "stderr"
        },
        {
          "output_type": "stream",
          "text": [
            "testing loss: 0.013624944865677746; time: 2.4745190143585205s\n",
            "testing accuracy: 81.59513854980469%\n",
            "training loss: 0.0005230043838927603; time: 30.243069887161255s\n",
            "training accuracy: 86.59862518310547%\n"
          ],
          "name": "stdout"
        },
        {
          "output_type": "stream",
          "text": [
            "\n",
            "\n",
            "\n",
            "\n",
            "\n",
            "\n",
            " 19%|█▉        | 19/100 [10:17<43:48, 32.45s/it]\u001b[A\u001b[A\u001b[A\u001b[A\u001b[A\u001b[A"
          ],
          "name": "stderr"
        },
        {
          "output_type": "stream",
          "text": [
            "testing loss: 0.013845005314304656; time: 2.5716264247894287s\n",
            "testing accuracy: 81.28305053710938%\n",
            "training loss: 0.0004946052843978999; time: 30.407945156097412s\n",
            "training accuracy: 86.65450286865234%\n"
          ],
          "name": "stdout"
        },
        {
          "output_type": "stream",
          "text": [
            "\n",
            "\n",
            "\n",
            "\n",
            "\n",
            "\n",
            " 20%|██        | 20/100 [10:51<43:58, 32.98s/it]\u001b[A\u001b[A\u001b[A\u001b[A\u001b[A\u001b[A"
          ],
          "name": "stderr"
        },
        {
          "output_type": "stream",
          "text": [
            "testing loss: 0.013492289700314861; time: 2.568869113922119s\n",
            "testing accuracy: 81.66449737548828%\n",
            "training loss: 0.0004652389644205526; time: 30.05748987197876s\n",
            "training accuracy: 86.92639923095703%\n"
          ],
          "name": "stdout"
        },
        {
          "output_type": "stream",
          "text": [
            "\n",
            "\n",
            "\n",
            "\n",
            "\n",
            "\n",
            " 21%|██        | 21/100 [11:24<43:15, 32.86s/it]\u001b[A\u001b[A\u001b[A\u001b[A\u001b[A\u001b[A"
          ],
          "name": "stderr"
        },
        {
          "output_type": "stream",
          "text": [
            "testing loss: 0.01388797724678447; time: 2.4940173625946045s\n",
            "testing accuracy: 81.59513854980469%\n",
            "training loss: 0.00044297084048017417; time: 30.141093969345093s\n",
            "training accuracy: 86.87984466552734%\n"
          ],
          "name": "stdout"
        },
        {
          "output_type": "stream",
          "text": [
            "\n",
            "\n",
            "\n",
            "\n",
            "\n",
            "\n",
            " 22%|██▏       | 22/100 [11:56<42:36, 32.78s/it]\u001b[A\u001b[A\u001b[A\u001b[A\u001b[A\u001b[A"
          ],
          "name": "stderr"
        },
        {
          "output_type": "stream",
          "text": [
            "testing loss: 0.01354775344738983; time: 2.449798107147217s\n",
            "testing accuracy: 81.9592514038086%\n",
            "training loss: 0.0004196236834261869; time: 29.778456687927246s\n",
            "training accuracy: 86.95806121826172%\n"
          ],
          "name": "stdout"
        },
        {
          "output_type": "stream",
          "text": [
            "\n",
            "\n",
            "\n",
            "\n",
            "\n",
            "\n",
            " 23%|██▎       | 23/100 [12:29<41:56, 32.68s/it]\u001b[A\u001b[A\u001b[A\u001b[A\u001b[A\u001b[A"
          ],
          "name": "stderr"
        },
        {
          "output_type": "stream",
          "text": [
            "testing loss: 0.013741410419984354; time: 2.632241725921631s\n",
            "testing accuracy: 81.74251556396484%\n",
            "training loss: 0.0004007380472521683; time: 29.611109256744385s\n",
            "training accuracy: 87.12008666992188%\n"
          ],
          "name": "stdout"
        },
        {
          "output_type": "stream",
          "text": [
            "\n",
            "\n",
            "\n",
            "\n",
            "\n",
            "\n",
            " 24%|██▍       | 24/100 [13:01<41:07, 32.47s/it]\u001b[A\u001b[A\u001b[A\u001b[A\u001b[A\u001b[A"
          ],
          "name": "stderr"
        },
        {
          "output_type": "stream",
          "text": [
            "testing loss: 0.013740626920545881; time: 2.36993145942688s\n",
            "testing accuracy: 81.37841033935547%\n",
            "training loss: 0.0003821133953853287; time: 30.045774459838867s\n",
            "training accuracy: 87.09028625488281%\n"
          ],
          "name": "stdout"
        },
        {
          "output_type": "stream",
          "text": [
            "\n",
            "\n",
            "\n",
            "\n",
            "\n",
            "\n",
            " 25%|██▌       | 25/100 [13:33<40:36, 32.48s/it]\u001b[A\u001b[A\u001b[A\u001b[A\u001b[A\u001b[A"
          ],
          "name": "stderr"
        },
        {
          "output_type": "stream",
          "text": [
            "testing loss: 0.013366759070132685; time: 2.4513661861419678s\n",
            "testing accuracy: 82.00260162353516%\n",
            "training loss: 0.00036586814192744054; time: 30.371999740600586s\n",
            "training accuracy: 87.21505737304688%\n"
          ],
          "name": "stdout"
        },
        {
          "output_type": "stream",
          "text": [
            "\n",
            "\n",
            "\n",
            "\n",
            "\n",
            "\n",
            " 26%|██▌       | 26/100 [14:06<40:12, 32.60s/it]\u001b[A\u001b[A\u001b[A\u001b[A\u001b[A\u001b[A"
          ],
          "name": "stderr"
        },
        {
          "output_type": "stream",
          "text": [
            "testing loss: 0.013817840287527276; time: 2.4651432037353516s\n",
            "testing accuracy: 81.04031372070312%\n",
            "training loss: 0.0003491387385053558; time: 30.331545114517212s\n",
            "training accuracy: 87.32307434082031%\n"
          ],
          "name": "stdout"
        },
        {
          "output_type": "stream",
          "text": [
            "\n",
            "\n",
            "\n",
            "\n",
            "\n",
            "\n",
            " 27%|██▋       | 27/100 [14:39<39:44, 32.66s/it]\u001b[A\u001b[A\u001b[A\u001b[A\u001b[A\u001b[A"
          ],
          "name": "stderr"
        },
        {
          "output_type": "stream",
          "text": [
            "testing loss: 0.013455816444556953; time: 2.458246946334839s\n",
            "testing accuracy: 82.04594421386719%\n",
            "training loss: 0.0003362629117926866; time: 30.016332626342773s\n",
            "training accuracy: 87.40316009521484%\n"
          ],
          "name": "stdout"
        },
        {
          "output_type": "stream",
          "text": [
            "\n",
            "\n",
            "\n",
            "\n",
            "\n",
            "\n",
            " 28%|██▊       | 28/100 [15:11<39:08, 32.62s/it]\u001b[A\u001b[A\u001b[A\u001b[A\u001b[A\u001b[A"
          ],
          "name": "stderr"
        },
        {
          "output_type": "stream",
          "text": [
            "testing loss: 0.013139480404074593; time: 2.501657485961914s\n",
            "testing accuracy: 82.36670684814453%\n",
            "training loss: 0.00032252951702834494; time: 30.214332580566406s\n",
            "training accuracy: 87.38267517089844%\n"
          ],
          "name": "stdout"
        },
        {
          "output_type": "stream",
          "text": [
            "\n",
            "\n",
            "\n",
            "\n",
            "\n",
            "\n",
            " 29%|██▉       | 29/100 [15:44<38:39, 32.67s/it]\u001b[A\u001b[A\u001b[A\u001b[A\u001b[A\u001b[A"
          ],
          "name": "stderr"
        },
        {
          "output_type": "stream",
          "text": [
            "testing loss: 0.013348825835256697; time: 2.5447027683258057s\n",
            "testing accuracy: 81.8638916015625%\n",
            "training loss: 0.0003087114857326206; time: 30.167734146118164s\n",
            "training accuracy: 87.53910827636719%\n"
          ],
          "name": "stdout"
        },
        {
          "output_type": "stream",
          "text": [
            "\n",
            "\n",
            "\n",
            "\n",
            "\n",
            "\n",
            " 30%|███       | 30/100 [16:18<38:36, 33.10s/it]\u001b[A\u001b[A\u001b[A\u001b[A\u001b[A\u001b[A"
          ],
          "name": "stderr"
        },
        {
          "output_type": "stream",
          "text": [
            "testing loss: 0.013177321990770234; time: 2.7172110080718994s\n",
            "testing accuracy: 82.29735565185547%\n",
            "training loss: 0.0002985550863758916; time: 30.307889938354492s\n",
            "training accuracy: 87.61360168457031%\n"
          ],
          "name": "stdout"
        },
        {
          "output_type": "stream",
          "text": [
            "\n",
            "\n",
            "\n",
            "\n",
            "\n",
            "\n",
            " 31%|███       | 31/100 [16:51<37:57, 33.00s/it]\u001b[A\u001b[A\u001b[A\u001b[A\u001b[A\u001b[A"
          ],
          "name": "stderr"
        },
        {
          "output_type": "stream",
          "text": [
            "testing loss: 0.013370787287409501; time: 2.45810866355896s\n",
            "testing accuracy: 82.35803985595703%\n",
            "training loss: 0.0002870617044620056; time: 30.30600118637085s\n",
            "training accuracy: 87.7048568725586%\n"
          ],
          "name": "stdout"
        },
        {
          "output_type": "stream",
          "text": [
            "\n",
            "\n",
            "\n",
            "\n",
            "\n",
            "\n",
            " 32%|███▏      | 32/100 [17:24<37:18, 32.92s/it]\u001b[A\u001b[A\u001b[A\u001b[A\u001b[A\u001b[A"
          ],
          "name": "stderr"
        },
        {
          "output_type": "stream",
          "text": [
            "testing loss: 0.013140752386442241; time: 2.3988592624664307s\n",
            "testing accuracy: 82.28001403808594%\n",
            "training loss: 0.000277452193814877; time: 29.779545307159424s\n",
            "training accuracy: 87.74024200439453%\n"
          ],
          "name": "stdout"
        },
        {
          "output_type": "stream",
          "text": [
            "\n",
            "\n",
            "\n",
            "\n",
            "\n",
            "\n",
            " 33%|███▎      | 33/100 [17:56<36:35, 32.77s/it]\u001b[A\u001b[A\u001b[A\u001b[A\u001b[A\u001b[A"
          ],
          "name": "stderr"
        },
        {
          "output_type": "stream",
          "text": [
            "testing loss: 0.01343568710987321; time: 2.6283035278320312s\n",
            "testing accuracy: 82.15864562988281%\n",
            "training loss: 0.00026959274071905703; time: 29.77691650390625s\n",
            "training accuracy: 87.7774887084961%\n"
          ],
          "name": "stdout"
        },
        {
          "output_type": "stream",
          "text": [
            "\n",
            "\n",
            "\n",
            "\n",
            "\n",
            "\n",
            " 34%|███▍      | 34/100 [18:28<35:52, 32.61s/it]\u001b[A\u001b[A\u001b[A\u001b[A\u001b[A\u001b[A"
          ],
          "name": "stderr"
        },
        {
          "output_type": "stream",
          "text": [
            "testing loss: 0.013059667031848694; time: 2.460549831390381s\n",
            "testing accuracy: 82.53142547607422%\n",
            "training loss: 0.00026088141433123314; time: 29.65746235847473s\n",
            "training accuracy: 87.72906494140625%\n"
          ],
          "name": "stdout"
        },
        {
          "output_type": "stream",
          "text": [
            "\n",
            "\n",
            "\n",
            "\n",
            "\n",
            "\n",
            " 35%|███▌      | 35/100 [19:01<35:10, 32.47s/it]\u001b[A\u001b[A\u001b[A\u001b[A\u001b[A\u001b[A"
          ],
          "name": "stderr"
        },
        {
          "output_type": "stream",
          "text": [
            "testing loss: 0.013305325470267306; time: 2.4642701148986816s\n",
            "testing accuracy: 82.4273910522461%\n",
            "training loss: 0.00025251191924526543; time: 30.328480005264282s\n",
            "training accuracy: 87.80728912353516%\n"
          ],
          "name": "stdout"
        },
        {
          "output_type": "stream",
          "text": [
            "\n",
            "\n",
            "\n",
            "\n",
            "\n",
            "\n",
            " 36%|███▌      | 36/100 [19:33<34:45, 32.59s/it]\u001b[A\u001b[A\u001b[A\u001b[A\u001b[A\u001b[A"
          ],
          "name": "stderr"
        },
        {
          "output_type": "stream",
          "text": [
            "testing loss: 0.013342140350808919; time: 2.5164859294891357s\n",
            "testing accuracy: 82.19332122802734%\n",
            "training loss: 0.00024301977533384717; time: 30.39446210861206s\n",
            "training accuracy: 87.90412902832031%\n"
          ],
          "name": "stdout"
        },
        {
          "output_type": "stream",
          "text": [
            "\n",
            "\n",
            "\n",
            "\n",
            "\n",
            "\n",
            " 37%|███▋      | 37/100 [20:06<34:18, 32.67s/it]\u001b[A\u001b[A\u001b[A\u001b[A\u001b[A\u001b[A"
          ],
          "name": "stderr"
        },
        {
          "output_type": "stream",
          "text": [
            "testing loss: 0.013170019990962772; time: 2.4624595642089844s\n",
            "testing accuracy: 82.82617950439453%\n",
            "training loss: 0.00023580879443108646; time: 30.218786001205444s\n",
            "training accuracy: 87.98420715332031%\n"
          ],
          "name": "stdout"
        },
        {
          "output_type": "stream",
          "text": [
            "\n",
            "\n",
            "\n",
            "\n",
            "\n",
            "\n",
            " 38%|███▊      | 38/100 [20:39<33:44, 32.66s/it]\u001b[A\u001b[A\u001b[A\u001b[A\u001b[A\u001b[A"
          ],
          "name": "stderr"
        },
        {
          "output_type": "stream",
          "text": [
            "testing loss: 0.013244974703617204; time: 2.3893604278564453s\n",
            "testing accuracy: 82.61811828613281%\n",
            "training loss: 0.00023010276539315477; time: 30.38918709754944s\n",
            "training accuracy: 87.95440673828125%\n"
          ],
          "name": "stdout"
        },
        {
          "output_type": "stream",
          "text": [
            "\n",
            "\n",
            "\n",
            "\n",
            "\n",
            "\n",
            " 39%|███▉      | 39/100 [21:12<33:15, 32.71s/it]\u001b[A\u001b[A\u001b[A\u001b[A\u001b[A\u001b[A"
          ],
          "name": "stderr"
        },
        {
          "output_type": "stream",
          "text": [
            "testing loss: 0.012954696556888311; time: 2.4282262325286865s\n",
            "testing accuracy: 82.97355651855469%\n",
            "training loss: 0.00022289475014808458; time: 29.793347358703613s\n",
            "training accuracy: 88.17788696289062%\n"
          ],
          "name": "stdout"
        },
        {
          "output_type": "stream",
          "text": [
            "\n",
            "\n",
            "\n",
            "\n",
            "\n",
            "\n",
            " 40%|████      | 40/100 [21:45<32:59, 32.98s/it]\u001b[A\u001b[A\u001b[A\u001b[A\u001b[A\u001b[A"
          ],
          "name": "stderr"
        },
        {
          "output_type": "stream",
          "text": [
            "testing loss: 0.013338463808041297; time: 2.633784532546997s\n",
            "testing accuracy: 81.81187438964844%\n",
            "training loss: 0.00021726549392679092; time: 30.10502791404724s\n",
            "training accuracy: 88.07360076904297%\n"
          ],
          "name": "stdout"
        },
        {
          "output_type": "stream",
          "text": [
            "\n",
            "\n",
            "\n",
            "\n",
            "\n",
            "\n",
            " 41%|████      | 41/100 [22:18<32:17, 32.84s/it]\u001b[A\u001b[A\u001b[A\u001b[A\u001b[A\u001b[A"
          ],
          "name": "stderr"
        },
        {
          "output_type": "stream",
          "text": [
            "testing loss: 0.013223726181277063; time: 2.3838109970092773s\n",
            "testing accuracy: 82.37537384033203%\n",
            "training loss: 0.00021069263393856804; time: 30.39018416404724s\n",
            "training accuracy: 88.16485595703125%\n"
          ],
          "name": "stdout"
        },
        {
          "output_type": "stream",
          "text": [
            "\n",
            "\n",
            "\n",
            "\n",
            "\n",
            "\n",
            " 42%|████▏     | 42/100 [22:51<31:44, 32.84s/it]\u001b[A\u001b[A\u001b[A\u001b[A\u001b[A\u001b[A"
          ],
          "name": "stderr"
        },
        {
          "output_type": "stream",
          "text": [
            "testing loss: 0.013308901521593242; time: 2.42399001121521s\n",
            "testing accuracy: 82.36670684814453%\n",
            "training loss: 0.0002056026055623181; time: 30.290581226348877s\n",
            "training accuracy: 88.1238784790039%\n"
          ],
          "name": "stdout"
        },
        {
          "output_type": "stream",
          "text": [
            "\n",
            "\n",
            "\n",
            "\n",
            "\n",
            "\n",
            " 43%|████▎     | 43/100 [23:24<31:12, 32.84s/it]\u001b[A\u001b[A\u001b[A\u001b[A\u001b[A\u001b[A"
          ],
          "name": "stderr"
        },
        {
          "output_type": "stream",
          "text": [
            "testing loss: 0.012973922000827342; time: 2.5539331436157227s\n",
            "testing accuracy: 82.55742645263672%\n",
            "training loss: 0.00020062171468390735; time: 30.328124284744263s\n",
            "training accuracy: 88.16112518310547%\n"
          ],
          "name": "stdout"
        },
        {
          "output_type": "stream",
          "text": [
            "\n",
            "\n",
            "\n",
            "\n",
            "\n",
            "\n",
            " 44%|████▍     | 44/100 [23:56<30:39, 32.85s/it]\u001b[A\u001b[A\u001b[A\u001b[A\u001b[A\u001b[A"
          ],
          "name": "stderr"
        },
        {
          "output_type": "stream",
          "text": [
            "testing loss: 0.01271158893631814; time: 2.5027313232421875s\n",
            "testing accuracy: 82.808837890625%\n",
            "training loss: 0.00019524559189794025; time: 30.670779943466187s\n",
            "training accuracy: 88.1685791015625%\n"
          ],
          "name": "stdout"
        },
        {
          "output_type": "stream",
          "text": [
            "\n",
            "\n",
            "\n",
            "\n",
            "\n",
            "\n",
            " 45%|████▌     | 45/100 [24:30<30:11, 32.93s/it]\u001b[A\u001b[A\u001b[A\u001b[A\u001b[A\u001b[A"
          ],
          "name": "stderr"
        },
        {
          "output_type": "stream",
          "text": [
            "testing loss: 0.013046195468811644; time: 2.4510185718536377s\n",
            "testing accuracy: 82.73948669433594%\n",
            "training loss: 0.00019114335872131175; time: 30.599334478378296s\n",
            "training accuracy: 88.16485595703125%\n"
          ],
          "name": "stdout"
        },
        {
          "output_type": "stream",
          "text": [
            "\n",
            "\n",
            "\n",
            "\n",
            "\n",
            "\n",
            " 46%|████▌     | 46/100 [25:03<29:41, 33.00s/it]\u001b[A\u001b[A\u001b[A\u001b[A\u001b[A\u001b[A"
          ],
          "name": "stderr"
        },
        {
          "output_type": "stream",
          "text": [
            "testing loss: 0.012847790094903914; time: 2.5384902954101562s\n",
            "testing accuracy: 82.65279388427734%\n",
            "training loss: 0.0001859196699545261; time: 30.52886962890625s\n",
            "training accuracy: 88.25611114501953%\n"
          ],
          "name": "stdout"
        },
        {
          "output_type": "stream",
          "text": [
            "\n",
            "\n",
            "\n",
            "\n",
            "\n",
            "\n",
            " 47%|████▋     | 47/100 [25:36<29:11, 33.04s/it]\u001b[A\u001b[A\u001b[A\u001b[A\u001b[A\u001b[A"
          ],
          "name": "stderr"
        },
        {
          "output_type": "stream",
          "text": [
            "testing loss: 0.012736162085991997; time: 2.601428747177124s\n",
            "testing accuracy: 82.94754791259766%\n",
            "training loss: 0.00018184680080185223; time: 30.536898612976074s\n",
            "training accuracy: 88.24307250976562%\n"
          ],
          "name": "stdout"
        },
        {
          "output_type": "stream",
          "text": [
            "\n",
            "\n",
            "\n",
            "\n",
            "\n",
            "\n",
            " 48%|████▊     | 48/100 [26:09<28:38, 33.05s/it]\u001b[A\u001b[A\u001b[A\u001b[A\u001b[A\u001b[A"
          ],
          "name": "stderr"
        },
        {
          "output_type": "stream",
          "text": [
            "testing loss: 0.012633118648962072; time: 2.51887845993042s\n",
            "testing accuracy: 83.05158233642578%\n",
            "training loss: 0.00017673725836038427; time: 29.96495532989502s\n",
            "training accuracy: 88.42371368408203%\n"
          ],
          "name": "stdout"
        },
        {
          "output_type": "stream",
          "text": [
            "\n",
            "\n",
            "\n",
            "\n",
            "\n",
            "\n",
            " 49%|████▉     | 49/100 [26:42<27:58, 32.92s/it]\u001b[A\u001b[A\u001b[A\u001b[A\u001b[A\u001b[A"
          ],
          "name": "stderr"
        },
        {
          "output_type": "stream",
          "text": [
            "testing loss: 0.012680876532131116; time: 2.635787010192871s\n",
            "testing accuracy: 82.8175048828125%\n",
            "training loss: 0.0001727177932996112; time: 29.887508153915405s\n",
            "training accuracy: 88.4386215209961%\n"
          ],
          "name": "stdout"
        },
        {
          "output_type": "stream",
          "text": [
            "\n",
            "\n",
            "\n",
            "\n",
            "\n",
            "\n",
            " 50%|█████     | 50/100 [27:15<27:34, 33.09s/it]\u001b[A\u001b[A\u001b[A\u001b[A\u001b[A\u001b[A"
          ],
          "name": "stderr"
        },
        {
          "output_type": "stream",
          "text": [
            "testing loss: 0.012549526695570596; time: 2.37715744972229s\n",
            "testing accuracy: 83.34632873535156%\n",
            "training loss: 0.0001692837030906106; time: 29.572587728500366s\n",
            "training accuracy: 88.41254425048828%\n"
          ],
          "name": "stdout"
        },
        {
          "output_type": "stream",
          "text": [
            "\n",
            "\n",
            "\n",
            "\n",
            "\n",
            "\n",
            " 51%|█████     | 51/100 [27:47<26:47, 32.81s/it]\u001b[A\u001b[A\u001b[A\u001b[A\u001b[A\u001b[A"
          ],
          "name": "stderr"
        },
        {
          "output_type": "stream",
          "text": [
            "testing loss: 0.013066181843744298; time: 2.5909881591796875s\n",
            "testing accuracy: 82.86952209472656%\n",
            "training loss: 0.00016530861948196098; time: 30.51704716682434s\n",
            "training accuracy: 88.42558288574219%\n"
          ],
          "name": "stdout"
        },
        {
          "output_type": "stream",
          "text": [
            "\n",
            "\n",
            "\n",
            "\n",
            "\n",
            "\n",
            " 52%|█████▏    | 52/100 [28:20<26:17, 32.87s/it]\u001b[A\u001b[A\u001b[A\u001b[A\u001b[A\u001b[A"
          ],
          "name": "stderr"
        },
        {
          "output_type": "stream",
          "text": [
            "testing loss: 0.013007889587252906; time: 2.476811408996582s\n",
            "testing accuracy: 82.73081970214844%\n",
            "training loss: 0.0001612957896270612; time: 30.681401252746582s\n",
            "training accuracy: 88.59319305419922%\n"
          ],
          "name": "stdout"
        },
        {
          "output_type": "stream",
          "text": [
            "\n",
            "\n",
            "\n",
            "\n",
            "\n",
            "\n",
            " 53%|█████▎    | 53/100 [28:53<25:49, 32.97s/it]\u001b[A\u001b[A\u001b[A\u001b[A\u001b[A\u001b[A"
          ],
          "name": "stderr"
        },
        {
          "output_type": "stream",
          "text": [
            "testing loss: 0.012903441405420341; time: 2.4855682849884033s\n",
            "testing accuracy: 82.7134780883789%\n",
            "training loss: 0.00015774657776413084; time: 30.01377010345459s\n",
            "training accuracy: 88.58946228027344%\n"
          ],
          "name": "stdout"
        },
        {
          "output_type": "stream",
          "text": [
            "\n",
            "\n",
            "\n",
            "\n",
            "\n",
            "\n",
            " 54%|█████▍    | 54/100 [29:26<25:10, 32.83s/it]\u001b[A\u001b[A\u001b[A\u001b[A\u001b[A\u001b[A"
          ],
          "name": "stderr"
        },
        {
          "output_type": "stream",
          "text": [
            "testing loss: 0.012587853386436235; time: 2.4871702194213867s\n",
            "testing accuracy: 82.8955307006836%\n",
            "training loss: 0.00015496937478333954; time: 29.80977201461792s\n",
            "training accuracy: 88.54849243164062%\n"
          ],
          "name": "stdout"
        },
        {
          "output_type": "stream",
          "text": [
            "\n",
            "\n",
            "\n",
            "\n",
            "\n",
            "\n",
            " 55%|█████▌    | 55/100 [29:58<24:31, 32.70s/it]\u001b[A\u001b[A\u001b[A\u001b[A\u001b[A\u001b[A"
          ],
          "name": "stderr"
        },
        {
          "output_type": "stream",
          "text": [
            "testing loss: 0.012910206962133002; time: 2.573627233505249s\n",
            "testing accuracy: 83.13826751708984%\n",
            "training loss: 0.000151862240062913; time: 29.68813943862915s\n",
            "training accuracy: 88.58573913574219%\n"
          ],
          "name": "stdout"
        },
        {
          "output_type": "stream",
          "text": [
            "\n",
            "\n",
            "\n",
            "\n",
            "\n",
            "\n",
            " 56%|█████▌    | 56/100 [30:30<23:51, 32.53s/it]\u001b[A\u001b[A\u001b[A\u001b[A\u001b[A\u001b[A"
          ],
          "name": "stderr"
        },
        {
          "output_type": "stream",
          "text": [
            "testing loss: 0.013351975281904103; time: 2.437527894973755s\n",
            "testing accuracy: 82.58344268798828%\n",
            "training loss: 0.00014918019823796828; time: 30.386125564575195s\n",
            "training accuracy: 88.6192626953125%\n"
          ],
          "name": "stdout"
        },
        {
          "output_type": "stream",
          "text": [
            "\n",
            "\n",
            "\n",
            "\n",
            "\n",
            "\n",
            " 57%|█████▋    | 57/100 [31:03<23:24, 32.67s/it]\u001b[A\u001b[A\u001b[A\u001b[A\u001b[A\u001b[A"
          ],
          "name": "stderr"
        },
        {
          "output_type": "stream",
          "text": [
            "testing loss: 0.012534800141494306; time: 2.5921099185943604s\n",
            "testing accuracy: 83.32032775878906%\n",
            "training loss: 0.00014667302350894533; time: 30.44461727142334s\n",
            "training accuracy: 88.62857818603516%\n"
          ],
          "name": "stdout"
        },
        {
          "output_type": "stream",
          "text": [
            "\n",
            "\n",
            "\n",
            "\n",
            "\n",
            "\n",
            " 58%|█████▊    | 58/100 [31:36<22:55, 32.75s/it]\u001b[A\u001b[A\u001b[A\u001b[A\u001b[A\u001b[A"
          ],
          "name": "stderr"
        },
        {
          "output_type": "stream",
          "text": [
            "testing loss: 0.012884924883094761; time: 2.4719817638397217s\n",
            "testing accuracy: 83.268310546875%\n",
            "training loss: 0.00014309183333302157; time: 30.086248874664307s\n",
            "training accuracy: 88.68258666992188%\n"
          ],
          "name": "stdout"
        },
        {
          "output_type": "stream",
          "text": [
            "\n",
            "\n",
            "\n",
            "\n",
            "\n",
            "\n",
            " 59%|█████▉    | 59/100 [32:09<22:20, 32.70s/it]\u001b[A\u001b[A\u001b[A\u001b[A\u001b[A\u001b[A"
          ],
          "name": "stderr"
        },
        {
          "output_type": "stream",
          "text": [
            "testing loss: 0.012408958336699303; time: 2.49407696723938s\n",
            "testing accuracy: 83.32899475097656%\n",
            "training loss: 0.0001405467879046369; time: 29.989476442337036s\n",
            "training accuracy: 88.58946228027344%\n"
          ],
          "name": "stdout"
        },
        {
          "output_type": "stream",
          "text": [
            "\n",
            "\n",
            "\n",
            "\n",
            "\n",
            "\n",
            " 60%|██████    | 60/100 [32:43<22:00, 33.01s/it]\u001b[A\u001b[A\u001b[A\u001b[A\u001b[A\u001b[A"
          ],
          "name": "stderr"
        },
        {
          "output_type": "stream",
          "text": [
            "testing loss: 0.01266729356692785; time: 2.5187394618988037s\n",
            "testing accuracy: 83.10359954833984%\n",
            "training loss: 0.00013780228036028663; time: 29.820563077926636s\n",
            "training accuracy: 88.67513275146484%\n"
          ],
          "name": "stdout"
        },
        {
          "output_type": "stream",
          "text": [
            "\n",
            "\n",
            "\n",
            "\n",
            "\n",
            "\n",
            " 61%|██████    | 61/100 [33:15<21:18, 32.78s/it]\u001b[A\u001b[A\u001b[A\u001b[A\u001b[A\u001b[A"
          ],
          "name": "stderr"
        },
        {
          "output_type": "stream",
          "text": [
            "testing loss: 0.012660362890234849; time: 2.3854358196258545s\n",
            "testing accuracy: 82.9128646850586%\n",
            "training loss: 0.00013572907524198144; time: 30.115075826644897s\n",
            "training accuracy: 88.73472595214844%\n"
          ],
          "name": "stdout"
        },
        {
          "output_type": "stream",
          "text": [
            "\n",
            "\n",
            "\n",
            "\n",
            "\n",
            "\n",
            " 62%|██████▏   | 62/100 [33:48<20:43, 32.71s/it]\u001b[A\u001b[A\u001b[A\u001b[A\u001b[A\u001b[A"
          ],
          "name": "stderr"
        },
        {
          "output_type": "stream",
          "text": [
            "testing loss: 0.012262183006030944; time: 2.428199291229248s\n",
            "testing accuracy: 83.51972198486328%\n",
            "training loss: 0.00013290861053432288; time: 30.334436655044556s\n",
            "training accuracy: 88.74217987060547%\n"
          ],
          "name": "stdout"
        },
        {
          "output_type": "stream",
          "text": [
            "\n",
            "\n",
            "\n",
            "\n",
            "\n",
            "\n",
            " 63%|██████▎   | 63/100 [34:20<20:12, 32.76s/it]\u001b[A\u001b[A\u001b[A\u001b[A\u001b[A\u001b[A"
          ],
          "name": "stderr"
        },
        {
          "output_type": "stream",
          "text": [
            "testing loss: 0.012261972095499216; time: 2.539623975753784s\n",
            "testing accuracy: 83.41568756103516%\n",
            "training loss: 0.00013120862069553323; time: 30.280269384384155s\n",
            "training accuracy: 88.74962615966797%\n"
          ],
          "name": "stdout"
        },
        {
          "output_type": "stream",
          "text": [
            "\n",
            "\n",
            "\n",
            "\n",
            "\n",
            "\n",
            " 64%|██████▍   | 64/100 [34:53<19:39, 32.76s/it]\u001b[A\u001b[A\u001b[A\u001b[A\u001b[A\u001b[A"
          ],
          "name": "stderr"
        },
        {
          "output_type": "stream",
          "text": [
            "testing loss: 0.012668355639925445; time: 2.4594686031341553s\n",
            "testing accuracy: 83.49371337890625%\n",
            "training loss: 0.00012862857667184658; time: 30.265466451644897s\n",
            "training accuracy: 88.79991149902344%\n"
          ],
          "name": "stdout"
        },
        {
          "output_type": "stream",
          "text": [
            "\n",
            "\n",
            "\n",
            "\n",
            "\n",
            "\n",
            " 65%|██████▌   | 65/100 [35:26<19:05, 32.74s/it]\u001b[A\u001b[A\u001b[A\u001b[A\u001b[A\u001b[A"
          ],
          "name": "stderr"
        },
        {
          "output_type": "stream",
          "text": [
            "testing loss: 0.012672896949331327; time: 2.3909053802490234s\n",
            "testing accuracy: 83.23362731933594%\n",
            "training loss: 0.00012611351216817527; time: 30.105614185333252s\n",
            "training accuracy: 88.75521087646484%\n"
          ],
          "name": "stdout"
        },
        {
          "output_type": "stream",
          "text": [
            "\n",
            "\n",
            "\n",
            "\n",
            "\n",
            "\n",
            " 66%|██████▌   | 66/100 [35:58<18:31, 32.68s/it]\u001b[A\u001b[A\u001b[A\u001b[A\u001b[A\u001b[A"
          ],
          "name": "stderr"
        },
        {
          "output_type": "stream",
          "text": [
            "testing loss: 0.01277672388902928; time: 2.443894863128662s\n",
            "testing accuracy: 82.63545989990234%\n",
            "training loss: 0.0001237011612759689; time: 29.770917654037476s\n",
            "training accuracy: 88.89116668701172%\n"
          ],
          "name": "stdout"
        },
        {
          "output_type": "stream",
          "text": [
            "\n",
            "\n",
            "\n",
            "\n",
            "\n",
            "\n",
            " 67%|██████▋   | 67/100 [36:31<17:55, 32.61s/it]\u001b[A\u001b[A\u001b[A\u001b[A\u001b[A\u001b[A"
          ],
          "name": "stderr"
        },
        {
          "output_type": "stream",
          "text": [
            "testing loss: 0.012627515785224933; time: 2.632770538330078s\n",
            "testing accuracy: 83.52838897705078%\n",
            "training loss: 0.0001219587905904867; time: 30.283246517181396s\n",
            "training accuracy: 88.81853485107422%\n"
          ],
          "name": "stdout"
        },
        {
          "output_type": "stream",
          "text": [
            "\n",
            "\n",
            "\n",
            "\n",
            "\n",
            "\n",
            " 68%|██████▊   | 68/100 [37:04<17:24, 32.65s/it]\u001b[A\u001b[A\u001b[A\u001b[A\u001b[A\u001b[A"
          ],
          "name": "stderr"
        },
        {
          "output_type": "stream",
          "text": [
            "testing loss: 0.01239785573436783; time: 2.457432270050049s\n",
            "testing accuracy: 83.31166076660156%\n",
            "training loss: 0.00011974189833741078; time: 30.270237684249878s\n",
            "training accuracy: 88.84646606445312%\n"
          ],
          "name": "stdout"
        },
        {
          "output_type": "stream",
          "text": [
            "\n",
            "\n",
            "\n",
            "\n",
            "\n",
            "\n",
            " 69%|██████▉   | 69/100 [37:36<16:53, 32.69s/it]\u001b[A\u001b[A\u001b[A\u001b[A\u001b[A\u001b[A"
          ],
          "name": "stderr"
        },
        {
          "output_type": "stream",
          "text": [
            "testing loss: 0.012365598986946663; time: 2.486846685409546s\n",
            "testing accuracy: 83.78846740722656%\n",
            "training loss: 0.00011772661689188723; time: 30.244672775268555s\n",
            "training accuracy: 88.95075988769531%\n"
          ],
          "name": "stdout"
        },
        {
          "output_type": "stream",
          "text": [
            "\n",
            "\n",
            "\n",
            "\n",
            "\n",
            "\n",
            " 70%|███████   | 70/100 [38:10<16:33, 33.11s/it]\u001b[A\u001b[A\u001b[A\u001b[A\u001b[A\u001b[A"
          ],
          "name": "stderr"
        },
        {
          "output_type": "stream",
          "text": [
            "testing loss: 0.012369528310765009; time: 2.627121686935425s\n",
            "testing accuracy: 83.20762634277344%\n",
            "training loss: 0.00011589865228175756; time: 29.931204080581665s\n",
            "training accuracy: 89.0029067993164%\n"
          ],
          "name": "stdout"
        },
        {
          "output_type": "stream",
          "text": [
            "\n",
            "\n",
            "\n",
            "\n",
            "\n",
            "\n",
            " 71%|███████   | 71/100 [38:43<15:53, 32.88s/it]\u001b[A\u001b[A\u001b[A\u001b[A\u001b[A\u001b[A"
          ],
          "name": "stderr"
        },
        {
          "output_type": "stream",
          "text": [
            "testing loss: 0.01260760759229933; time: 2.3921682834625244s\n",
            "testing accuracy: 83.04290771484375%\n",
            "training loss: 0.00011443540179268721; time: 29.78603982925415s\n",
            "training accuracy: 88.93399810791016%\n"
          ],
          "name": "stdout"
        },
        {
          "output_type": "stream",
          "text": [
            "\n",
            "\n",
            "\n",
            "\n",
            "\n",
            "\n",
            " 72%|███████▏  | 72/100 [39:15<15:15, 32.68s/it]\u001b[A\u001b[A\u001b[A\u001b[A\u001b[A\u001b[A"
          ],
          "name": "stderr"
        },
        {
          "output_type": "stream",
          "text": [
            "testing loss: 0.01241113292186561; time: 2.4100310802459717s\n",
            "testing accuracy: 83.54572296142578%\n",
            "training loss: 0.00011269194852750956; time: 30.250083923339844s\n",
            "training accuracy: 88.95634460449219%\n"
          ],
          "name": "stdout"
        },
        {
          "output_type": "stream",
          "text": [
            "\n",
            "\n",
            "\n",
            "\n",
            "\n",
            "\n",
            " 73%|███████▎  | 73/100 [39:48<14:42, 32.67s/it]\u001b[A\u001b[A\u001b[A\u001b[A\u001b[A\u001b[A"
          ],
          "name": "stderr"
        },
        {
          "output_type": "stream",
          "text": [
            "testing loss: 0.012415699999881194; time: 2.3875279426574707s\n",
            "testing accuracy: 83.6324234008789%\n",
            "training loss: 0.00010245138123399629; time: 30.593526363372803s\n",
            "training accuracy: 89.91731262207031%\n"
          ],
          "name": "stdout"
        },
        {
          "output_type": "stream",
          "text": [
            "\n",
            "\n",
            "\n",
            "\n",
            "\n",
            "\n",
            " 74%|███████▍  | 74/100 [40:21<14:12, 32.79s/it]\u001b[A\u001b[A\u001b[A\u001b[A\u001b[A\u001b[A"
          ],
          "name": "stderr"
        },
        {
          "output_type": "stream",
          "text": [
            "testing loss: 0.011983605934767999; time: 2.4441113471984863s\n",
            "testing accuracy: 83.97918701171875%\n",
            "training loss: 0.00010002049215635256; time: 30.352471590042114s\n",
            "training accuracy: 90.08492279052734%\n"
          ],
          "name": "stdout"
        },
        {
          "output_type": "stream",
          "text": [
            "\n",
            "\n",
            "\n",
            "\n",
            "\n",
            "\n",
            " 75%|███████▌  | 75/100 [40:54<13:40, 32.80s/it]\u001b[A\u001b[A\u001b[A\u001b[A\u001b[A\u001b[A"
          ],
          "name": "stderr"
        },
        {
          "output_type": "stream",
          "text": [
            "testing loss: 0.011907422225106884; time: 2.4709925651550293s\n",
            "testing accuracy: 84.11790466308594%\n",
            "training loss: 9.842428751529379e-05; time: 30.53516387939453s\n",
            "training accuracy: 90.06443786621094%\n"
          ],
          "name": "stdout"
        },
        {
          "output_type": "stream",
          "text": [
            "\n",
            "\n",
            "\n",
            "\n",
            "\n",
            "\n",
            " 76%|███████▌  | 76/100 [41:27<13:08, 32.86s/it]\u001b[A\u001b[A\u001b[A\u001b[A\u001b[A\u001b[A"
          ],
          "name": "stderr"
        },
        {
          "output_type": "stream",
          "text": [
            "testing loss: 0.01188446533630873; time: 2.436007499694824s\n",
            "testing accuracy: 84.23059844970703%\n",
            "training loss: 9.687524287090736e-05; time: 29.84181571006775s\n",
            "training accuracy: 90.12403106689453%\n"
          ],
          "name": "stdout"
        },
        {
          "output_type": "stream",
          "text": [
            "\n",
            "\n",
            "\n",
            "\n",
            "\n",
            "\n",
            " 77%|███████▋  | 77/100 [41:59<12:31, 32.69s/it]\u001b[A\u001b[A\u001b[A\u001b[A\u001b[A\u001b[A"
          ],
          "name": "stderr"
        },
        {
          "output_type": "stream",
          "text": [
            "testing loss: 0.01182732519826488; time: 2.452275276184082s\n",
            "testing accuracy: 84.23059844970703%\n",
            "training loss: 9.56013834982068e-05; time: 29.94728946685791s\n",
            "training accuracy: 90.11471557617188%\n"
          ],
          "name": "stdout"
        },
        {
          "output_type": "stream",
          "text": [
            "\n",
            "\n",
            "\n",
            "\n",
            "\n",
            "\n",
            " 78%|███████▊  | 78/100 [42:31<11:57, 32.60s/it]\u001b[A\u001b[A\u001b[A\u001b[A\u001b[A\u001b[A"
          ],
          "name": "stderr"
        },
        {
          "output_type": "stream",
          "text": [
            "testing loss: 0.011748428193841809; time: 2.4093878269195557s\n",
            "testing accuracy: 84.12657165527344%\n",
            "training loss: 9.423011645982819e-05; time: 30.320497751235962s\n",
            "training accuracy: 90.1668701171875%\n"
          ],
          "name": "stdout"
        },
        {
          "output_type": "stream",
          "text": [
            "\n",
            "\n",
            "\n",
            "\n",
            "\n",
            "\n",
            " 79%|███████▉  | 79/100 [43:04<11:26, 32.68s/it]\u001b[A\u001b[A\u001b[A\u001b[A\u001b[A\u001b[A"
          ],
          "name": "stderr"
        },
        {
          "output_type": "stream",
          "text": [
            "testing loss: 0.011778746528521108; time: 2.519321918487549s\n",
            "testing accuracy: 84.23926544189453%\n",
            "training loss: 9.298028888309062e-05; time: 30.60136914253235s\n",
            "training accuracy: 90.14079284667969%\n"
          ],
          "name": "stdout"
        },
        {
          "output_type": "stream",
          "text": [
            "\n",
            "\n",
            "\n",
            "\n",
            "\n",
            "\n",
            " 80%|████████  | 80/100 [43:39<11:04, 33.23s/it]\u001b[A\u001b[A\u001b[A\u001b[A\u001b[A\u001b[A"
          ],
          "name": "stderr"
        },
        {
          "output_type": "stream",
          "text": [
            "testing loss: 0.011796618169347187; time: 2.6965267658233643s\n",
            "testing accuracy: 84.12657165527344%\n",
            "training loss: 9.17263411822905e-05; time: 30.024536848068237s\n",
            "training accuracy: 90.15569305419922%\n"
          ],
          "name": "stdout"
        },
        {
          "output_type": "stream",
          "text": [
            "\n",
            "\n",
            "\n",
            "\n",
            "\n",
            "\n",
            " 81%|████████  | 81/100 [44:11<10:27, 33.00s/it]\u001b[A\u001b[A\u001b[A\u001b[A\u001b[A\u001b[A"
          ],
          "name": "stderr"
        },
        {
          "output_type": "stream",
          "text": [
            "testing loss: 0.011748747474957608; time: 2.4238741397857666s\n",
            "testing accuracy: 84.18724822998047%\n",
            "training loss: 9.042094037233059e-05; time: 29.982250213623047s\n",
            "training accuracy: 90.17431640625%\n"
          ],
          "name": "stdout"
        },
        {
          "output_type": "stream",
          "text": [
            "\n",
            "\n",
            "\n",
            "\n",
            "\n",
            "\n",
            " 82%|████████▏ | 82/100 [44:43<09:50, 32.82s/it]\u001b[A\u001b[A\u001b[A\u001b[A\u001b[A\u001b[A"
          ],
          "name": "stderr"
        },
        {
          "output_type": "stream",
          "text": [
            "testing loss: 0.011743553896447927; time: 2.3940558433532715s\n",
            "testing accuracy: 84.14390563964844%\n",
            "training loss: 8.945104320223658e-05; time: 29.779525756835938s\n",
            "training accuracy: 90.13520812988281%\n"
          ],
          "name": "stdout"
        },
        {
          "output_type": "stream",
          "text": [
            "\n",
            "\n",
            "\n",
            "\n",
            "\n",
            "\n",
            " 83%|████████▎ | 83/100 [45:16<09:14, 32.64s/it]\u001b[A\u001b[A\u001b[A\u001b[A\u001b[A\u001b[A"
          ],
          "name": "stderr"
        },
        {
          "output_type": "stream",
          "text": [
            "testing loss: 0.011834800977132307; time: 2.4162404537200928s\n",
            "testing accuracy: 84.05721282958984%\n",
            "training loss: 8.821284275612072e-05; time: 30.45172667503357s\n",
            "training accuracy: 90.23949432373047%\n"
          ],
          "name": "stdout"
        },
        {
          "output_type": "stream",
          "text": [
            "\n",
            "\n",
            "\n",
            "\n",
            "\n",
            "\n",
            " 84%|████████▍ | 84/100 [45:49<08:43, 32.73s/it]\u001b[A\u001b[A\u001b[A\u001b[A\u001b[A\u001b[A"
          ],
          "name": "stderr"
        },
        {
          "output_type": "stream",
          "text": [
            "testing loss: 0.011830449575823935; time: 2.470432996749878s\n",
            "testing accuracy: 84.1005630493164%\n",
            "training loss: 8.714095870912971e-05; time: 30.396830797195435s\n",
            "training accuracy: 90.1687240600586%\n"
          ],
          "name": "stdout"
        },
        {
          "output_type": "stream",
          "text": [
            "\n",
            "\n",
            "\n",
            "\n",
            "\n",
            "\n",
            " 85%|████████▌ | 85/100 [46:21<08:11, 32.78s/it]\u001b[A\u001b[A\u001b[A\u001b[A\u001b[A\u001b[A"
          ],
          "name": "stderr"
        },
        {
          "output_type": "stream",
          "text": [
            "testing loss: 0.011743795707027375; time: 2.477372407913208s\n",
            "testing accuracy: 84.33463287353516%\n",
            "training loss: 8.604248253564642e-05; time: 30.09231185913086s\n",
            "training accuracy: 90.189208984375%\n"
          ],
          "name": "stdout"
        },
        {
          "output_type": "stream",
          "text": [
            "\n",
            "\n",
            "\n",
            "\n",
            "\n",
            "\n",
            " 86%|████████▌ | 86/100 [46:54<07:38, 32.72s/it]\u001b[A\u001b[A\u001b[A\u001b[A\u001b[A\u001b[A"
          ],
          "name": "stderr"
        },
        {
          "output_type": "stream",
          "text": [
            "testing loss: 0.011765469283214315; time: 2.485729217529297s\n",
            "testing accuracy: 84.30862426757812%\n",
            "training loss: 8.49640325725686e-05; time: 30.020723342895508s\n",
            "training accuracy: 90.19666290283203%\n"
          ],
          "name": "stdout"
        },
        {
          "output_type": "stream",
          "text": [
            "\n",
            "\n",
            "\n",
            "\n",
            "\n",
            "\n",
            " 87%|████████▋ | 87/100 [47:27<07:04, 32.65s/it]\u001b[A\u001b[A\u001b[A\u001b[A\u001b[A\u001b[A"
          ],
          "name": "stderr"
        },
        {
          "output_type": "stream",
          "text": [
            "testing loss: 0.011835457517643951; time: 2.440401792526245s\n",
            "testing accuracy: 84.20458984375%\n",
            "training loss: 8.399156675294488e-05; time: 29.735860347747803s\n",
            "training accuracy: 90.20038604736328%\n"
          ],
          "name": "stdout"
        },
        {
          "output_type": "stream",
          "text": [
            "\n",
            "\n",
            "\n",
            "\n",
            "\n",
            "\n",
            " 88%|████████▊ | 88/100 [47:59<06:29, 32.48s/it]\u001b[A\u001b[A\u001b[A\u001b[A\u001b[A\u001b[A"
          ],
          "name": "stderr"
        },
        {
          "output_type": "stream",
          "text": [
            "testing loss: 0.011808979956293498; time: 2.3487744331359863s\n",
            "testing accuracy: 84.24794006347656%\n",
            "training loss: 8.307563843487022e-05; time: 30.13785743713379s\n",
            "training accuracy: 90.20970153808594%\n"
          ],
          "name": "stdout"
        },
        {
          "output_type": "stream",
          "text": [
            "\n",
            "\n",
            "\n",
            "\n",
            "\n",
            "\n",
            " 89%|████████▉ | 89/100 [48:31<05:57, 32.52s/it]\u001b[A\u001b[A\u001b[A\u001b[A\u001b[A\u001b[A"
          ],
          "name": "stderr"
        },
        {
          "output_type": "stream",
          "text": [
            "testing loss: 0.01190305213372481; time: 2.4418256282806396s\n",
            "testing accuracy: 84.21326446533203%\n",
            "training loss: 8.20680230690916e-05; time: 30.509161949157715s\n",
            "training accuracy: 90.19852447509766%\n"
          ],
          "name": "stdout"
        },
        {
          "output_type": "stream",
          "text": [
            "\n",
            "\n",
            "\n",
            "\n",
            "\n",
            "\n",
            " 90%|█████████ | 90/100 [49:05<05:30, 33.03s/it]\u001b[A\u001b[A\u001b[A\u001b[A\u001b[A\u001b[A"
          ],
          "name": "stderr"
        },
        {
          "output_type": "stream",
          "text": [
            "testing loss: 0.011901984015971383; time: 2.509495258331299s\n",
            "testing accuracy: 84.1092300415039%\n",
            "training loss: 8.111702142996356e-05; time: 30.40336513519287s\n",
            "training accuracy: 90.19293975830078%\n"
          ],
          "name": "stdout"
        },
        {
          "output_type": "stream",
          "text": [
            "\n",
            "\n",
            "\n",
            "\n",
            "\n",
            "\n",
            " 91%|█████████ | 91/100 [49:38<04:57, 33.00s/it]\u001b[A\u001b[A\u001b[A\u001b[A\u001b[A\u001b[A"
          ],
          "name": "stderr"
        },
        {
          "output_type": "stream",
          "text": [
            "testing loss: 0.011736152910170846; time: 2.5078368186950684s\n",
            "testing accuracy: 84.2912826538086%\n",
            "training loss: 8.009289380425455e-05; time: 30.173169136047363s\n",
            "training accuracy: 90.19852447509766%\n"
          ],
          "name": "stdout"
        },
        {
          "output_type": "stream",
          "text": [
            "\n",
            "\n",
            "\n",
            "\n",
            "\n",
            "\n",
            " 92%|█████████▏| 92/100 [50:11<04:23, 32.89s/it]\u001b[A\u001b[A\u001b[A\u001b[A\u001b[A\u001b[A"
          ],
          "name": "stderr"
        },
        {
          "output_type": "stream",
          "text": [
            "testing loss: 0.011841539769240877; time: 2.42374324798584s\n",
            "testing accuracy: 84.22193145751953%\n",
            "training loss: 7.922743691667705e-05; time: 29.859943151474s\n",
            "training accuracy: 90.22460174560547%\n"
          ],
          "name": "stdout"
        },
        {
          "output_type": "stream",
          "text": [
            "\n",
            "\n",
            "\n",
            "\n",
            "\n",
            "\n",
            " 93%|█████████▎| 93/100 [50:43<03:49, 32.73s/it]\u001b[A\u001b[A\u001b[A\u001b[A\u001b[A\u001b[A"
          ],
          "name": "stderr"
        },
        {
          "output_type": "stream",
          "text": [
            "testing loss: 0.011685362775694203; time: 2.4929754734039307s\n",
            "testing accuracy: 84.2739486694336%\n",
            "training loss: 7.836031497956855e-05; time: 30.059845447540283s\n",
            "training accuracy: 90.22832489013672%\n"
          ],
          "name": "stdout"
        },
        {
          "output_type": "stream",
          "text": [
            "\n",
            "\n",
            "\n",
            "\n",
            "\n",
            "\n",
            " 94%|█████████▍| 94/100 [51:16<03:16, 32.74s/it]\u001b[A\u001b[A\u001b[A\u001b[A\u001b[A\u001b[A"
          ],
          "name": "stderr"
        },
        {
          "output_type": "stream",
          "text": [
            "testing loss: 0.01175848618182053; time: 2.6994595527648926s\n",
            "testing accuracy: 84.38665008544922%\n",
            "training loss: 7.752729091097129e-05; time: 30.479544639587402s\n",
            "training accuracy: 90.26929473876953%\n"
          ],
          "name": "stdout"
        },
        {
          "output_type": "stream",
          "text": [
            "\n",
            "\n",
            "\n",
            "\n",
            "\n",
            "\n",
            " 95%|█████████▌| 95/100 [51:49<02:44, 32.81s/it]\u001b[A\u001b[A\u001b[A\u001b[A\u001b[A\u001b[A"
          ],
          "name": "stderr"
        },
        {
          "output_type": "stream",
          "text": [
            "testing loss: 0.011903676847952705; time: 2.451643466949463s\n",
            "testing accuracy: 84.24794006347656%\n",
            "training loss: 7.665449849768909e-05; time: 30.450255870819092s\n",
            "training accuracy: 90.25067138671875%\n"
          ],
          "name": "stdout"
        },
        {
          "output_type": "stream",
          "text": [
            "\n",
            "\n",
            "\n",
            "\n",
            "\n",
            "\n",
            " 96%|█████████▌| 96/100 [52:22<02:11, 32.87s/it]\u001b[A\u001b[A\u001b[A\u001b[A\u001b[A\u001b[A"
          ],
          "name": "stderr"
        },
        {
          "output_type": "stream",
          "text": [
            "testing loss: 0.011745635409103517; time: 2.555171489715576s\n",
            "testing accuracy: 84.17858123779297%\n",
            "training loss: 7.579061810479772e-05; time: 29.996715545654297s\n",
            "training accuracy: 90.28604888916016%\n"
          ],
          "name": "stdout"
        },
        {
          "output_type": "stream",
          "text": [
            "\n",
            "\n",
            "\n",
            "\n",
            "\n",
            "\n",
            " 97%|█████████▋| 97/100 [52:55<01:38, 32.77s/it]\u001b[A\u001b[A\u001b[A\u001b[A\u001b[A\u001b[A"
          ],
          "name": "stderr"
        },
        {
          "output_type": "stream",
          "text": [
            "testing loss: 0.011669764151343754; time: 2.524287223815918s\n",
            "testing accuracy: 84.2739486694336%\n",
            "training loss: 7.501080986425433e-05; time: 30.004119634628296s\n",
            "training accuracy: 90.24136352539062%\n"
          ],
          "name": "stdout"
        },
        {
          "output_type": "stream",
          "text": [
            "\n",
            "\n",
            "\n",
            "\n",
            "\n",
            "\n",
            " 98%|█████████▊| 98/100 [53:27<01:05, 32.68s/it]\u001b[A\u001b[A\u001b[A\u001b[A\u001b[A\u001b[A"
          ],
          "name": "stderr"
        },
        {
          "output_type": "stream",
          "text": [
            "testing loss: 0.011859420676625649; time: 2.4415295124053955s\n",
            "testing accuracy: 84.30862426757812%\n",
            "training loss: 7.424224370868546e-05; time: 29.924227237701416s\n",
            "training accuracy: 90.25439453125%\n"
          ],
          "name": "stdout"
        },
        {
          "output_type": "stream",
          "text": [
            "\n",
            "\n",
            "\n",
            "\n",
            "\n",
            "\n",
            " 99%|█████████▉| 99/100 [54:00<00:32, 32.63s/it]\u001b[A\u001b[A\u001b[A\u001b[A\u001b[A\u001b[A"
          ],
          "name": "stderr"
        },
        {
          "output_type": "stream",
          "text": [
            "testing loss: 0.011914163248191213; time: 2.5681164264678955s\n",
            "testing accuracy: 84.20458984375%\n",
            "training loss: 7.346810478854734e-05; time: 30.67046046257019s\n",
            "training accuracy: 90.26184844970703%\n"
          ],
          "name": "stdout"
        },
        {
          "output_type": "stream",
          "text": [
            "\n",
            "\n",
            "\n",
            "\n",
            "\n",
            "\n",
            "100%|██████████| 100/100 [54:34<00:00, 32.75s/it]"
          ],
          "name": "stderr"
        },
        {
          "output_type": "stream",
          "text": [
            "testing loss: 0.011793264364932696; time: 2.5948386192321777s\n",
            "testing accuracy: 84.22193145751953%\n"
          ],
          "name": "stdout"
        },
        {
          "output_type": "stream",
          "text": [
            "\n"
          ],
          "name": "stderr"
        }
      ]
    }
  ]
}